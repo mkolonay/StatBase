{
 "cells": [
  {
   "cell_type": "code",
   "execution_count": 1,
   "metadata": {},
   "outputs": [],
   "source": [
    "from stat_base import MyStats"
   ]
  },
  {
   "cell_type": "markdown",
   "metadata": {},
   "source": [
    "<img src=\"images\\5\\3_13.PNG\" width=\"500\" height=\"600\">"
   ]
  },
  {
   "cell_type": "code",
   "execution_count": 16,
   "metadata": {},
   "outputs": [
    {
     "data": {
      "text/latex": [
       "$ P(r) = \\frac{n!}{r!(n-r)!}  p^r  q^{n-r}$"
      ],
      "text/plain": [
       "<IPython.core.display.Latex object>"
      ]
     },
     "metadata": {},
     "output_type": "display_data"
    },
    {
     "data": {
      "text/latex": [
       "$ P(r) = \\frac{6!}{0!(6-0)!}  0.7^0  0.3^{6-0}$"
      ],
      "text/plain": [
       "<IPython.core.display.Latex object>"
      ]
     },
     "metadata": {},
     "output_type": "display_data"
    },
    {
     "name": "stdout",
     "output_type": "stream",
     "text": [
      "by the formula : 0.001\n"
     ]
    },
    {
     "data": {
      "text/latex": [
       "$ P(r) = \\frac{n!}{r!(n-r)!}  p^r  q^{n-r}$"
      ],
      "text/plain": [
       "<IPython.core.display.Latex object>"
      ]
     },
     "metadata": {},
     "output_type": "display_data"
    },
    {
     "data": {
      "text/latex": [
       "$ P(r) = \\frac{6!}{1!(6-1)!}  0.7^1  0.3^{6-1}$"
      ],
      "text/plain": [
       "<IPython.core.display.Latex object>"
      ]
     },
     "metadata": {},
     "output_type": "display_data"
    },
    {
     "name": "stdout",
     "output_type": "stream",
     "text": [
      "by the formula : 0.01\n"
     ]
    },
    {
     "data": {
      "text/latex": [
       "$ P(r) = \\frac{n!}{r!(n-r)!}  p^r  q^{n-r}$"
      ],
      "text/plain": [
       "<IPython.core.display.Latex object>"
      ]
     },
     "metadata": {},
     "output_type": "display_data"
    },
    {
     "data": {
      "text/latex": [
       "$ P(r) = \\frac{6!}{2!(6-2)!}  0.7^2  0.3^{6-2}$"
      ],
      "text/plain": [
       "<IPython.core.display.Latex object>"
      ]
     },
     "metadata": {},
     "output_type": "display_data"
    },
    {
     "name": "stdout",
     "output_type": "stream",
     "text": [
      "by the formula : 0.06\n"
     ]
    },
    {
     "data": {
      "text/latex": [
       "$ P(r) = \\frac{n!}{r!(n-r)!}  p^r  q^{n-r}$"
      ],
      "text/plain": [
       "<IPython.core.display.Latex object>"
      ]
     },
     "metadata": {},
     "output_type": "display_data"
    },
    {
     "data": {
      "text/latex": [
       "$ P(r) = \\frac{6!}{3!(6-3)!}  0.7^3  0.3^{6-3}$"
      ],
      "text/plain": [
       "<IPython.core.display.Latex object>"
      ]
     },
     "metadata": {},
     "output_type": "display_data"
    },
    {
     "name": "stdout",
     "output_type": "stream",
     "text": [
      "by the formula : 0.185\n"
     ]
    },
    {
     "data": {
      "text/latex": [
       "$ P(r) = \\frac{n!}{r!(n-r)!}  p^r  q^{n-r}$"
      ],
      "text/plain": [
       "<IPython.core.display.Latex object>"
      ]
     },
     "metadata": {},
     "output_type": "display_data"
    },
    {
     "data": {
      "text/latex": [
       "$ P(r) = \\frac{6!}{4!(6-4)!}  0.7^4  0.3^{6-4}$"
      ],
      "text/plain": [
       "<IPython.core.display.Latex object>"
      ]
     },
     "metadata": {},
     "output_type": "display_data"
    },
    {
     "name": "stdout",
     "output_type": "stream",
     "text": [
      "by the formula : 0.324\n"
     ]
    },
    {
     "data": {
      "text/latex": [
       "$ P(r) = \\frac{n!}{r!(n-r)!}  p^r  q^{n-r}$"
      ],
      "text/plain": [
       "<IPython.core.display.Latex object>"
      ]
     },
     "metadata": {},
     "output_type": "display_data"
    },
    {
     "data": {
      "text/latex": [
       "$ P(r) = \\frac{6!}{5!(6-5)!}  0.7^5  0.3^{6-5}$"
      ],
      "text/plain": [
       "<IPython.core.display.Latex object>"
      ]
     },
     "metadata": {},
     "output_type": "display_data"
    },
    {
     "name": "stdout",
     "output_type": "stream",
     "text": [
      "by the formula : 0.303\n"
     ]
    },
    {
     "data": {
      "text/latex": [
       "$ P(r) = \\frac{n!}{r!(n-r)!}  p^r  q^{n-r}$"
      ],
      "text/plain": [
       "<IPython.core.display.Latex object>"
      ]
     },
     "metadata": {},
     "output_type": "display_data"
    },
    {
     "data": {
      "text/latex": [
       "$ P(r) = \\frac{6!}{6!(6-6)!}  0.7^6  0.3^{6-6}$"
      ],
      "text/plain": [
       "<IPython.core.display.Latex object>"
      ]
     },
     "metadata": {},
     "output_type": "display_data"
    },
    {
     "name": "stdout",
     "output_type": "stream",
     "text": [
      "by the formula : 0.118\n",
      "[0.001, 0.01, 0.06, 0.185, 0.324, 0.303, 0.118]\n"
     ]
    },
    {
     "data": {
      "image/png": "[encoded data removed]",
      "text/plain": [
       "<Figure size 432x288 with 1 Axes>"
      ]
     },
     "metadata": {},
     "output_type": "display_data"
    }
   ],
   "source": [
    "friends = [0,1,2,3,4,5,6]\n",
    "histogram_list = []\n",
    "_r = 0\n",
    "_n = 6\n",
    "_p = .7\n",
    "\n",
    "for friend in friends:\n",
    "    pofx = MyStats.Probability.Experiment.get_r(r=friend , n=_n, p=_p)\n",
    "    histogram_list.append(pofx)    \n",
    "print(histogram_list)\n",
    "MyStats.Graphs.Histogram.make_plot(histogram_list, \"probability\", friends, \"Prob\",  \"Histogram of Binomial P dist\")\n"
   ]
  },
  {
   "cell_type": "code",
   "execution_count": null,
   "metadata": {},
   "outputs": [],
   "source": []
  },
  {
   "cell_type": "markdown",
   "metadata": {},
   "source": [
    "<img src=\"images\\5\\3_13_a.PNG\" width=\"500\" height=\"600\">"
   ]
  },
  {
   "cell_type": "code",
   "execution_count": null,
   "metadata": {},
   "outputs": [],
   "source": []
  }
 ],
 "metadata": {
  "kernelspec": {
   "display_name": "Python 3",
   "language": "python",
   "name": "python3"
  },
  "language_info": {
   "codemirror_mode": {
    "name": "ipython",
    "version": 3
   },
   "file_extension": ".py",
   "mimetype": "text/x-python",
   "name": "python",
   "nbconvert_exporter": "python",
   "pygments_lexer": "ipython3",
   "version": "3.7.1"
  }
 },
 "nbformat": 4,
 "nbformat_minor": 2
}
