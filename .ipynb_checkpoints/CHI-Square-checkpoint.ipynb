{
 "cells": [
  {
   "cell_type": "code",
   "execution_count": 2,
   "metadata": {},
   "outputs": [],
   "source": [
    "from stat_base import MyStats"
   ]
  },
  {
   "cell_type": "code",
   "execution_count": 3,
   "metadata": {},
   "outputs": [
    {
     "data": {
      "text/latex": [
       "$ \\chi^2 = 13.347$"
      ],
      "text/plain": [
       "<IPython.core.display.Latex object>"
      ]
     },
     "metadata": {},
     "output_type": "display_data"
    },
    {
     "data": {
      "text/latex": [
       "$ p =  0.5755$"
      ],
      "text/plain": [
       "<IPython.core.display.Latex object>"
      ]
     },
     "metadata": {},
     "output_type": "display_data"
    },
    {
     "data": {
      "text/latex": [
       "$ df =  15$"
      ],
      "text/plain": [
       "<IPython.core.display.Latex object>"
      ]
     },
     "metadata": {},
     "output_type": "display_data"
    },
    {
     "data": {
      "text/latex": [
       "$ \\chi^2 = \\sum{\\frac{(O-E)^2}{E}} $"
      ],
      "text/plain": [
       "<IPython.core.display.Latex object>"
      ]
     },
     "metadata": {},
     "output_type": "display_data"
    },
    {
     "data": {
      "text/latex": [
       "$ \\frac{(83 -80.61)^2}{80.61} +  \\frac{(62 -65.6)^2}{65.6} +  \\frac{(53 -48.14)^2}{48.14} +  \\frac{(35 -34.48)^2}{34.48} +  \\frac{(18 -22.17)^2}{22.17} +  \\frac{(251 -251.0)^2}{251.0} +  \\frac{(94 -84.78)^2}{84.78} +  \\frac{(77 -69.0)^2}{69.0} +  \\frac{(48 -50.63)^2}{50.63} +  \\frac{(25 -36.27)^2}{36.27} +  \\frac{(20 -23.31)^2}{23.31} +  \\frac{(264 -264.0)^2}{264.0} +  \\frac{(78 -85.42)^2}{85.42} +  \\frac{(65 -69.53)^2}{69.53} +  \\frac{(51 -51.02)^2}{51.02} +  \\frac{(40 -36.54)^2}{36.54} +  \\frac{(32 -23.49)^2}{23.49} +  \\frac{(266 -266.0)^2}{266.0} +  \\frac{(105 -109.19)^2}{109.19} +  \\frac{(89 -88.87)^2}{88.87} +  \\frac{(63 -65.21)^2}{65.21} +  \\frac{(54 -46.71)^2}{46.71} +  \\frac{(29 -30.03)^2}{30.03} +  \\frac{(340 -340.0)^2}{340.0} +  = 13.347$"
      ],
      "text/plain": [
       "<IPython.core.display.Latex object>"
      ]
     },
     "metadata": {},
     "output_type": "display_data"
    },
    {
     "name": "stdout",
     "output_type": "stream",
     "text": [
      "All expected frequencies are greater than 5. Use the chi-square distribution.\n",
      "Since there are 4 rows and 6 columns, d.f. = (4 - 1)(6-1) = 15\n"
     ]
    },
    {
     "data": {
      "text/latex": [
       "Since d.f. = 15,$\\chi^2 = 13.347 $ falls between entries XXX and XXX. Therefore, XXX < P value < XXX"
      ],
      "text/plain": [
       "<IPython.core.display.Latex object>"
      ]
     },
     "metadata": {},
     "output_type": "display_data"
    },
    {
     "data": {
      "text/latex": [
       "Since the P value is greater than the level of significance $\\alpha = 0.01$, we fail to reject the null hypothesis"
      ],
      "text/plain": [
       "<IPython.core.display.Latex object>"
      ]
     },
     "metadata": {},
     "output_type": "display_data"
    },
    {
     "name": "stdout",
     "output_type": "stream",
     "text": [
      "At the 0.01 level of significance, there is insufficient evidence to conclude that XXX and XXX are not independent.\n"
     ]
    },
    {
     "data": {
      "text/plain": [
       "(13.346703317510885,\n",
       " 0.5755378394468664,\n",
       " 15,\n",
       " array([[ 80.60660125,  65.60481713,  48.14005352,  34.48171276,\n",
       "          22.16681534, 251.        ],\n",
       "        [ 84.78144514,  69.00267618,  50.63336307,  36.2676182 ,\n",
       "          23.31489741, 264.        ],\n",
       "        [ 85.42372881,  69.52542373,  51.01694915,  36.54237288,\n",
       "          23.49152542, 266.        ],\n",
       "        [109.1882248 ,  88.86708296,  65.20963426,  46.70829616,\n",
       "          30.02676182, 340.        ]]))"
      ]
     },
     "execution_count": 3,
     "metadata": {},
     "output_type": "execute_result"
    }
   ],
   "source": [
    "A = [83, 62, 53, 35, 18, 251]\n",
    "B = [94, 77, 48, 25, 20, 264]\n",
    "C = [78, 65, 51, 40, 32, 266]\n",
    "D = [105, 89, 63, 54, 29, 340]\n",
    "O_arrays = [A,B,C,D]\n",
    "MyStats.ChiSquare.get_chi_square(O_arrays, .01)    "
   ]
  },
  {
   "cell_type": "code",
   "execution_count": 20,
   "metadata": {},
   "outputs": [
    {
     "data": {
      "image/png": "[encoded data removed]",
      "text/plain": [
       "<Figure size 432x288 with 1 Axes>"
      ]
     },
     "metadata": {},
     "output_type": "display_data"
    }
   ],
   "source": [
    "import matplotlib\n",
    "import matplotlib.pyplot as plt\n",
    "import numpy as np\n",
    "\n",
    "\n",
    "labels = ['< 5B', '5-10B', '>10B']\n",
    "men_means = a\n",
    "women_means = b\n",
    "\n",
    "x = np.arange(len(labels))  # the label locations\n",
    "width = 0.35  # the width of the bars\n",
    "\n",
    "fig, ax = plt.subplots()\n",
    "rects1 = ax.bar(x - width/2, men_means, width, label='Democratic')\n",
    "rects2 = ax.bar(x + width/2, women_means, width, label='Republican')\n",
    "\n",
    "# Add some text for labels, title and custom x-axis tick labels, etc.\n",
    "ax.set_ylabel('Dollars Spent')\n",
    "ax.set_title('Dollars Spent by Party in Home District')\n",
    "ax.set_xticks(x)\n",
    "ax.set_xticklabels(labels)\n",
    "ax.legend()\n",
    "\n",
    "\n",
    "def autolabel(rects):\n",
    "    \"\"\"Attach a text label above each bar in *rects*, displaying its height.\"\"\"\n",
    "    for rect in rects:\n",
    "        height = rect.get_height()\n",
    "        ax.annotate('{}'.format(height),\n",
    "                    xy=(rect.get_x() + rect.get_width() / 2, height),\n",
    "                    xytext=(0, 3),  # 3 points vertical offset\n",
    "                    textcoords=\"offset points\",\n",
    "                    ha='center', va='bottom')\n",
    "\n",
    "\n",
    "autolabel(rects1)\n",
    "autolabel(rects2)\n",
    "\n",
    "fig.tight_layout()\n",
    "fig.patch.set_facecolor('xkcd:white')\n",
    "\n",
    "plt.show()\n"
   ]
  },
  {
   "cell_type": "code",
   "execution_count": null,
   "metadata": {},
   "outputs": [],
   "source": []
  }
 ],
 "metadata": {
  "kernelspec": {
   "display_name": "Python 3",
   "language": "python",
   "name": "python3"
  },
  "language_info": {
   "codemirror_mode": {
    "name": "ipython",
    "version": 3
   },
   "file_extension": ".py",
   "mimetype": "text/x-python",
   "name": "python",
   "nbconvert_exporter": "python",
   "pygments_lexer": "ipython3",
   "version": "3.7.1"
  }
 },
 "nbformat": 4,
 "nbformat_minor": 2
}
