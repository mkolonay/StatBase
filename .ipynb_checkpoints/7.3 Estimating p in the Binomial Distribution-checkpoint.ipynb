{
 "cells": [
  {
   "cell_type": "code",
   "execution_count": 1,
   "metadata": {},
   "outputs": [],
   "source": [
    "from stat_base import MyStats"
   ]
  },
  {
   "cell_type": "markdown",
   "metadata": {},
   "source": [
    "Section 7.3 problems: 11, 15, 19, and 25"
   ]
  },
  {
   "cell_type": "markdown",
   "metadata": {},
   "source": [
    "<img src=\"images\\7\\3_11.PNG\" width=\"500\" height=\"600\">"
   ]
  },
  {
   "cell_type": "code",
   "execution_count": null,
   "metadata": {},
   "outputs": [],
   "source": [
    "_n = 62\n",
    "_r = 39\n",
    "_loc = .95\n",
    "MyStats.ConfidenceIntervals.get_ci_for_binomial(n=_n, r=_r, level_of_confidence=_loc)"
   ]
  },
  {
   "cell_type": "markdown",
   "metadata": {},
   "source": [
    "<img src=\"images\\7\\3_15.PNG\" width=\"500\" height=\"600\">"
   ]
  },
  {
   "cell_type": "code",
   "execution_count": null,
   "metadata": {},
   "outputs": [],
   "source": [
    "_n = 5792\n",
    "_r = 3139\n",
    "_loc = .99\n",
    "MyStats.ConfidenceIntervals.get_ci_for_binomial(n=_n, r=_r, level_of_confidence=_loc)"
   ]
  },
  {
   "cell_type": "markdown",
   "metadata": {},
   "source": [
    "<img src=\"images\\7\\3_19.PNG\" width=\"500\" height=\"600\">"
   ]
  },
  {
   "cell_type": "code",
   "execution_count": null,
   "metadata": {},
   "outputs": [],
   "source": [
    "_n = 730\n",
    "_r = 628\n",
    "_loc = .95\n",
    "MyStats.ConfidenceIntervals.get_ci_for_binomial(n=_n, r=_r, level_of_confidence=_loc)"
   ]
  },
  {
   "cell_type": "markdown",
   "metadata": {},
   "source": [
    "<img src=\"images\\7\\3_23_1.PNG\" width=\"500\" height=\"600\">\n",
    "<img src=\"images\\7\\3_23_2.PNG\" width=\"500\" height=\"600\">"
   ]
  },
  {
   "cell_type": "code",
   "execution_count": 2,
   "metadata": {},
   "outputs": [
    {
     "data": {
      "text/latex": [
       "$ n = 1/4(\\frac{z_{c}}{E})^2 = 1/4(\\frac{1.44}{0.05})^2 = 207.36 = 208 $"
      ],
      "text/plain": [
       "<IPython.core.display.Latex object>"
      ]
     },
     "metadata": {},
     "output_type": "display_data"
    },
    {
     "data": {
      "text/latex": [
       "$ n = p(1-p)(\\frac{z_{c}}{E})^2 = 0.089(1-0.089)(\\frac{1.44}{0.05})^2 = 67.25 = 68 $"
      ],
      "text/plain": [
       "<IPython.core.display.Latex object>"
      ]
     },
     "metadata": {},
     "output_type": "display_data"
    },
    {
     "data": {
      "text/plain": [
       "68"
      ]
     },
     "execution_count": 2,
     "metadata": {},
     "output_type": "execute_result"
    }
   ],
   "source": [
    "MyStats.SampleSizes.Binomial.without_p_estimate(level_of_confidence=.85, E=.05)\n",
    "# 68\n",
    "# print(round(8/90,3))\n",
    "MyStats.SampleSizes.Binomial.with_p_estimate(p=.089, level_of_confidence=.85, E=.05)\n",
    "# 208\n",
    "# MyStats.SampleSizes.Binomial.min_value_of_n_for_p(p, expected_value)"
   ]
  },
  {
   "cell_type": "markdown",
   "metadata": {},
   "source": [
    "<img src=\"images\\7\\3_25.PNG\" width=\"500\" height=\"600\">"
   ]
  },
  {
   "cell_type": "code",
   "execution_count": 3,
   "metadata": {},
   "outputs": [
    {
     "data": {
      "text/latex": [
       "$ n = 1/4(\\frac{z_{c}}{E})^2 = 1/4(\\frac{2.58}{0.05})^2 = 665.64 = 666 $"
      ],
      "text/plain": [
       "<IPython.core.display.Latex object>"
      ]
     },
     "metadata": {},
     "output_type": "display_data"
    },
    {
     "data": {
      "text/latex": [
       "$ n = p(1-p)(\\frac{z_{c}}{E})^2 = 0.54(1-0.54)(\\frac{2.58}{0.05})^2 = 661.38 = 662 $"
      ],
      "text/plain": [
       "<IPython.core.display.Latex object>"
      ]
     },
     "metadata": {},
     "output_type": "display_data"
    },
    {
     "data": {
      "text/plain": [
       "662"
      ]
     },
     "execution_count": 3,
     "metadata": {},
     "output_type": "execute_result"
    }
   ],
   "source": [
    "MyStats.SampleSizes.Binomial.without_p_estimate(level_of_confidence=.99, E=.05)\n",
    "# 666\n",
    "MyStats.SampleSizes.Binomial.with_p_estimate(p=.54, level_of_confidence=.99, E=.05)\n",
    "# 662\n",
    "# MyStats.SampleSizes.Binomial.min_value_of_n_for_p(p, expected_value)\n"
   ]
  },
  {
   "cell_type": "markdown",
   "metadata": {},
   "source": [
    "<img src=\"images\\7\\3_a_1.PNG\" width=\"500\" height=\"600\">\n",
    "<img src=\"images\\7\\3_a_2.PNG\" width=\"500\" height=\"600\">"
   ]
  },
  {
   "cell_type": "markdown",
   "metadata": {},
   "source": []
  }
 ],
 "metadata": {
  "kernelspec": {
   "display_name": "Python 3",
   "language": "python",
   "name": "python3"
  },
  "language_info": {
   "codemirror_mode": {
    "name": "ipython",
    "version": 3
   },
   "file_extension": ".py",
   "mimetype": "text/x-python",
   "name": "python",
   "nbconvert_exporter": "python",
   "pygments_lexer": "ipython3",
   "version": "3.7.1"
  }
 },
 "nbformat": 4,
 "nbformat_minor": 2
}
