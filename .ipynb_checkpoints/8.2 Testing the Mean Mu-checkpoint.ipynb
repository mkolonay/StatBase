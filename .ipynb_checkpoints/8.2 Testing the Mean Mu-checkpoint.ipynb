{
 "cells": [
  {
   "cell_type": "code",
   "execution_count": 1,
   "metadata": {},
   "outputs": [],
   "source": [
    "from stat_base import MyStats"
   ]
  },
  {
   "cell_type": "markdown",
   "metadata": {},
   "source": [
    "Section 8.2 problems: 1, 3, 5, 9, 11, 13, and 17"
   ]
  },
  {
   "cell_type": "markdown",
   "metadata": {},
   "source": [
    "<img src=\"images\\8\\2_11.PNG\" width=\"500\" height=\"600\">"
   ]
  },
  {
   "cell_type": "code",
   "execution_count": null,
   "metadata": {},
   "outputs": [],
   "source": [
    "_xbar = 17.3\n",
    "_mu = 16.4\n",
    "_sigma = 3.5\n",
    "_n = 36\n",
    "_H0 = \"H0?\"\n",
    "_H1 = \"H1?\"\n",
    "_alpha = .01\n",
    "# less, greater, different\n",
    "_test_type = 'greater'\n",
    "MyStats.HypothesisTesting.SigmaIsKnown.test_hypothesis(xbar=_xbar, mu=_mu, sigma=_sigma, n=_n, H0=_H0, H1=_H1, alpha=_alpha, test_type=_test_type)"
   ]
  },
  {
   "cell_type": "markdown",
   "metadata": {},
   "source": [
    "<img src=\"images\\8\\2_13.PNG\" width=\"500\" height=\"600\">"
   ]
  },
  {
   "cell_type": "code",
   "execution_count": null,
   "metadata": {},
   "outputs": [],
   "source": [
    "_xbar = 2.05\n",
    "_mu = 1.75\n",
    "_s = .82\n",
    "_n = 46\n",
    "_H0 = \"H0?\"\n",
    "_H1 = \"H1?\"\n",
    "_alpha = .01\n",
    "# less, greater, different\n",
    "_test_type = 'greater'\n",
    "MyStats.HypothesisTesting.SigmaIsUnKnown.test_hypothesis(xbar=_xbar, mu=_mu, s=_s, n=_n, H0=_H0, H1=_H1, alpha=_alpha, test_type=_test_type)"
   ]
  },
  {
   "cell_type": "markdown",
   "metadata": {},
   "source": [
    "<img src=\"images\\8\\2_17.PNG\" width=\"500\" height=\"600\">"
   ]
  },
  {
   "cell_type": "code",
   "execution_count": null,
   "metadata": {},
   "outputs": [],
   "source": [
    "arr = [4.9,4.2,4.5,4.1,4.4,4.3]\n",
    "MyStats.MeasuresOfCentralTendency.description(arr)"
   ]
  },
  {
   "cell_type": "code",
   "execution_count": null,
   "metadata": {},
   "outputs": [],
   "source": [
    "_xbar = 4.4\n",
    "_mu = 4.8\n",
    "_s = .28\n",
    "_n = 6\n",
    "_H0 = \"H0?\"\n",
    "_H1 = \"H1?\"\n",
    "_alpha = .05\n",
    "# less, greater, different\n",
    "_test_type = 'less'\n",
    "MyStats.HypothesisTesting.SigmaIsUnKnown.test_hypothesis(xbar=_xbar, mu=_mu, s=_s, n=_n, H0=_H0, H1=_H1, alpha=_alpha, test_type=_test_type)"
   ]
  },
  {
   "cell_type": "markdown",
   "metadata": {},
   "source": [
    "<img src=\"images\\8\\2_21.PNG\" width=\"500\" height=\"600\">"
   ]
  },
  {
   "cell_type": "code",
   "execution_count": null,
   "metadata": {},
   "outputs": [],
   "source": [
    "arr = [12,6,11,12,5,0,2,7,8,7,6,3,12,12]\n",
    "MyStats.MeasuresOfCentralTendency.description(arr)"
   ]
  },
  {
   "cell_type": "code",
   "execution_count": 2,
   "metadata": {},
   "outputs": [
    {
     "data": {
      "text/latex": [
       "$ n = 14 < 30 $"
      ],
      "text/plain": [
       "<IPython.core.display.Latex object>"
      ]
     },
     "metadata": {},
     "output_type": "display_data"
    },
    {
     "name": "stdout",
     "output_type": "stream",
     "text": [
      "Does x have a mound shaped distribution?y\n"
     ]
    },
    {
     "data": {
      "text/latex": [
       "Use a Student\\'s distibution The x distribution is mound shaped and symmetric, and $\\sigma$ is unknown. "
      ],
      "text/plain": [
       "<IPython.core.display.Latex object>"
      ]
     },
     "metadata": {},
     "output_type": "display_data"
    },
    {
     "data": {
      "text/latex": [
       "$\\alpha =  0.05 $"
      ],
      "text/plain": [
       "<IPython.core.display.Latex object>"
      ]
     },
     "metadata": {},
     "output_type": "display_data"
    },
    {
     "data": {
      "text/latex": [
       "$H_{0} : \\mu = 8.8 $"
      ],
      "text/plain": [
       "<IPython.core.display.Latex object>"
      ]
     },
     "metadata": {},
     "output_type": "display_data"
    },
    {
     "data": {
      "text/latex": [
       "$H_{1} : \\mu \\neq 8.8 $"
      ],
      "text/plain": [
       "<IPython.core.display.Latex object>"
      ]
     },
     "metadata": {},
     "output_type": "display_data"
    },
    {
     "data": {
      "text/latex": [
       "$ df =  13 $"
      ],
      "text/plain": [
       "<IPython.core.display.Latex object>"
      ]
     },
     "metadata": {},
     "output_type": "display_data"
    },
    {
     "data": {
      "text/latex": [
       "$ P(\\bar{x} \\geq 7.36) $"
      ],
      "text/plain": [
       "<IPython.core.display.Latex object>"
      ]
     },
     "metadata": {},
     "output_type": "display_data"
    },
    {
     "name": "stdout",
     "output_type": "stream",
     "text": [
      "REMEMBER TO USE VALUE FROM THE TABLE FOR PROBABILITY\n"
     ]
    },
    {
     "data": {
      "text/latex": [
       "$ t = \\frac{\\bar{x} - \\mu}{ \\frac{s}{\\sqrt{n}}} = \\frac{7.36 - 8.8}{\\frac{4.03}{\\sqrt{14}}} = -1.34 $"
      ],
      "text/plain": [
       "<IPython.core.display.Latex object>"
      ]
     },
     "metadata": {},
     "output_type": "display_data"
    },
    {
     "name": "stdout",
     "output_type": "stream",
     "text": [
      "tvalue is less than zero in a greater than calc. Weird. Using Absolute value...\n"
     ]
    },
    {
     "data": {
      "text/latex": [
       "$ P(\\bar{x} \\geq 7.36) = P(t \\geq 1.34) = 1 - P(t < 1.34) = 1-0.8984 = 0.1016 $"
      ],
      "text/plain": [
       "<IPython.core.display.Latex object>"
      ]
     },
     "metadata": {},
     "output_type": "display_data"
    },
    {
     "name": "stdout",
     "output_type": "stream",
     "text": [
      "T value : 1.34\n"
     ]
    },
    {
     "data": {
      "text/latex": [
       "P-value for a two tailed test = 2* 0.1016 "
      ],
      "text/plain": [
       "<IPython.core.display.Latex object>"
      ]
     },
     "metadata": {},
     "output_type": "display_data"
    },
    {
     "data": {
      "image/png": "[encoded data removed]",
      "text/plain": [
       "<Figure size 432x288 with 1 Axes>"
      ]
     },
     "metadata": {},
     "output_type": "display_data"
    },
    {
     "data": {
      "text/latex": [
       "$P-value = 0.2032 $"
      ],
      "text/plain": [
       "<IPython.core.display.Latex object>"
      ]
     },
     "metadata": {},
     "output_type": "display_data"
    },
    {
     "data": {
      "text/latex": [
       "$p =  0.2032 > \\alpha = 0.05 $"
      ],
      "text/plain": [
       "<IPython.core.display.Latex object>"
      ]
     },
     "metadata": {},
     "output_type": "display_data"
    },
    {
     "name": "stdout",
     "output_type": "stream",
     "text": [
      "We fail to reject the null hypothesis\n",
      "There is insufficient evidence at the 0.05 level to reject H0. The data are not statistically significant. It seems H0? \n"
     ]
    }
   ],
   "source": [
    "_xbar = 7.36\n",
    "_mu = 8.8\n",
    "_s = 4.03\n",
    "_n = 14\n",
    "_H0 = \"H0?\"\n",
    "_H1 = \"H1?\"\n",
    "_alpha = .05\n",
    "# less, greater, different\n",
    "_test_type = 'different'\n",
    "MyStats.HypothesisTesting.SigmaIsUnKnown.test_hypothesis(xbar=_xbar, mu=_mu, s=_s, n=_n, H0=_H0, H1=_H1, alpha=_alpha, test_type=_test_type)"
   ]
  },
  {
   "cell_type": "markdown",
   "metadata": {},
   "source": [
    "<img src=\"images\\8\\2_a_1.PNG\" width=\"500\" height=\"600\">\n",
    "<img src=\"images\\8\\2_a_2.PNG\" width=\"500\" height=\"600\">"
   ]
  },
  {
   "cell_type": "markdown",
   "metadata": {},
   "source": []
  }
 ],
 "metadata": {
  "kernelspec": {
   "display_name": "Python 3",
   "language": "python",
   "name": "python3"
  },
  "language_info": {
   "codemirror_mode": {
    "name": "ipython",
    "version": 3
   },
   "file_extension": ".py",
   "mimetype": "text/x-python",
   "name": "python",
   "nbconvert_exporter": "python",
   "pygments_lexer": "ipython3",
   "version": "3.7.1"
  }
 },
 "nbformat": 4,
 "nbformat_minor": 2
}
