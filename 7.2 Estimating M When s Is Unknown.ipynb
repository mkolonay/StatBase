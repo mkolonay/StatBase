{
 "cells": [
  {
   "cell_type": "code",
   "execution_count": 1,
   "metadata": {},
   "outputs": [],
   "source": [
    "from stat_base import MyStats"
   ]
  },
  {
   "cell_type": "markdown",
   "metadata": {},
   "source": [
    "Section 7.2 problems: 11, 13, and 17"
   ]
  },
  {
   "cell_type": "markdown",
   "metadata": {},
   "source": [
    "<img src=\"images\\7\\2_11.PNG\" width=\"500\" height=\"600\">"
   ]
  },
  {
   "cell_type": "code",
   "execution_count": null,
   "metadata": {},
   "outputs": [],
   "source": [
    "_loc = .9\n",
    "_n = 16\n",
    "_s = 2\n",
    "_xbar = 10\n",
    "# critical_value=0\n",
    "MyStats.ConfidenceIntervals.get_ci_with_sigma_unknown(level_of_confidence=_loc,n=_n,s=_s,xbar=_xbar)"
   ]
  },
  {
   "cell_type": "markdown",
   "metadata": {},
   "source": [
    "<img src=\"images\\7\\2_13.PNG\" width=\"500\" height=\"600\">"
   ]
  },
  {
   "cell_type": "code",
   "execution_count": 3,
   "metadata": {},
   "outputs": [
    {
     "name": "stdout",
     "output_type": "stream",
     "text": [
      "mean of arr :  1272.2222222222222\n",
      "arr :  [1189, 1271, 1267, 1272, 1268, 1316, 1275, 1317, 1275]\n",
      "std of arr :  34.81627262511271\n",
      "\n",
      "More precision with float32\n",
      "std of arr :  36.928234\n",
      "\n",
      "More accuracy with float64\n",
      "std of arr :  36.92823370328514\n"
     ]
    },
    {
     "data": {
      "text/latex": [
       "$ n = 9 < 30 $"
      ],
      "text/plain": [
       "<IPython.core.display.Latex object>"
      ]
     },
     "metadata": {},
     "output_type": "display_data"
    },
    {
     "name": "stdout",
     "output_type": "stream",
     "text": [
      "Does x have a mound shaped distribution?y\n"
     ]
    },
    {
     "data": {
      "text/latex": [
       " The x distribution is normal, so the $\\bar{x}$ distribution is also normal and $\\sigma$ is known. "
      ],
      "text/plain": [
       "<IPython.core.display.Latex object>"
      ]
     },
     "metadata": {},
     "output_type": "display_data"
    },
    {
     "data": {
      "text/latex": [
       "$df = 8 $"
      ],
      "text/plain": [
       "<IPython.core.display.Latex object>"
      ]
     },
     "metadata": {},
     "output_type": "display_data"
    },
    {
     "data": {
      "text/latex": [
       "$t_{c} = 1.86 $"
      ],
      "text/plain": [
       "<IPython.core.display.Latex object>"
      ]
     },
     "metadata": {},
     "output_type": "display_data"
    },
    {
     "data": {
      "text/latex": [
       "$\\bar{x} - E < \\mu < \\bar{x} + E$"
      ],
      "text/plain": [
       "<IPython.core.display.Latex object>"
      ]
     },
     "metadata": {},
     "output_type": "display_data"
    },
    {
     "data": {
      "text/latex": [
       "$E = t_{c}\\frac{s}{\\sqrt{n}} = 1.86\\frac{37}{\\sqrt{9}} = 22.94$"
      ],
      "text/plain": [
       "<IPython.core.display.Latex object>"
      ]
     },
     "metadata": {},
     "output_type": "display_data"
    },
    {
     "data": {
      "text/latex": [
       "$1272- 22.94 < \\mu < 1272 + 22.94$"
      ],
      "text/plain": [
       "<IPython.core.display.Latex object>"
      ]
     },
     "metadata": {},
     "output_type": "display_data"
    },
    {
     "data": {
      "text/latex": [
       "$1249.06 < \\mu < 1294.94$"
      ],
      "text/plain": [
       "<IPython.core.display.Latex object>"
      ]
     },
     "metadata": {},
     "output_type": "display_data"
    },
    {
     "data": {
      "text/latex": [
       "We conclude with 0.9 confidence that the interval from 1249.06 to 1294.94 is one that contains the population mean of $\\mu$. "
      ],
      "text/plain": [
       "<IPython.core.display.Latex object>"
      ]
     },
     "metadata": {},
     "output_type": "display_data"
    }
   ],
   "source": [
    "arr = [1189,1271,1267,1272,1268,1316,1275,1317,1275]\n",
    "MyStats.get_mean(arr)\n",
    "MyStats.get_sample_sd(arr)\n",
    "\n",
    "_loc = .9\n",
    "_n = 9\n",
    "_s = 37\n",
    "_xbar = 1272\n",
    "# critical_value=0\n",
    "MyStats.ConfidenceIntervals.get_ci_with_sigma_unknown(level_of_confidence=_loc,n=_n,s=_s,xbar=_xbar)"
   ]
  },
  {
   "cell_type": "markdown",
   "metadata": {},
   "source": [
    "<img src=\"images\\7\\2_17.PNG\" width=\"500\" height=\"600\">"
   ]
  },
  {
   "cell_type": "code",
   "execution_count": 5,
   "metadata": {},
   "outputs": [
    {
     "name": "stdout",
     "output_type": "stream",
     "text": [
      "mean of arr :  9.95\n",
      "arr :  [9.3, 8.8, 10.1, 8.9, 9.4, 9.8, 10.0, 9.9, 11.2, 12.1]\n",
      "std of arr :  0.968762096698668\n",
      "\n",
      "More precision with float32\n",
      "std of arr :  1.0211649\n",
      "\n",
      "More accuracy with float64\n",
      "std of arr :  1.0211649121360256\n"
     ]
    },
    {
     "data": {
      "text/latex": [
       "$ n = 10 < 30 $"
      ],
      "text/plain": [
       "<IPython.core.display.Latex object>"
      ]
     },
     "metadata": {},
     "output_type": "display_data"
    },
    {
     "name": "stdout",
     "output_type": "stream",
     "text": [
      "Does x have a mound shaped distribution?y\n"
     ]
    },
    {
     "data": {
      "text/latex": [
       " The x distribution is normal, so the $\\bar{x}$ distribution is also normal and $\\sigma$ is known. "
      ],
      "text/plain": [
       "<IPython.core.display.Latex object>"
      ]
     },
     "metadata": {},
     "output_type": "display_data"
    },
    {
     "data": {
      "text/latex": [
       "$df = 9 $"
      ],
      "text/plain": [
       "<IPython.core.display.Latex object>"
      ]
     },
     "metadata": {},
     "output_type": "display_data"
    },
    {
     "data": {
      "text/latex": [
       "$t_{c} = 4.781 $"
      ],
      "text/plain": [
       "<IPython.core.display.Latex object>"
      ]
     },
     "metadata": {},
     "output_type": "display_data"
    },
    {
     "data": {
      "text/latex": [
       "$\\bar{x} - E < \\mu < \\bar{x} + E$"
      ],
      "text/plain": [
       "<IPython.core.display.Latex object>"
      ]
     },
     "metadata": {},
     "output_type": "display_data"
    },
    {
     "data": {
      "text/latex": [
       "$E = t_{c}\\frac{s}{\\sqrt{n}} = 4.781\\frac{1.02}{\\sqrt{10}} = 1.542$"
      ],
      "text/plain": [
       "<IPython.core.display.Latex object>"
      ]
     },
     "metadata": {},
     "output_type": "display_data"
    },
    {
     "data": {
      "text/latex": [
       "$9.95- 1.542 < \\mu < 9.95 + 1.542$"
      ],
      "text/plain": [
       "<IPython.core.display.Latex object>"
      ]
     },
     "metadata": {},
     "output_type": "display_data"
    },
    {
     "data": {
      "text/latex": [
       "$8.408 < \\mu < 11.492$"
      ],
      "text/plain": [
       "<IPython.core.display.Latex object>"
      ]
     },
     "metadata": {},
     "output_type": "display_data"
    },
    {
     "data": {
      "text/latex": [
       "We conclude with 0.999 confidence that the interval from 8.408 to 11.492 is one that contains the population mean of $\\mu$. "
      ],
      "text/plain": [
       "<IPython.core.display.Latex object>"
      ]
     },
     "metadata": {},
     "output_type": "display_data"
    }
   ],
   "source": [
    "arr = [9.3, 8.8, 10.1, 8.9, 9.4, 9.8, 10.0, 9.9, 11.2, 12.1]\n",
    "MyStats.get_mean(arr)\n",
    "MyStats.get_sample_sd(arr)\n",
    "\n",
    "_loc = .999\n",
    "_n = len(arr)\n",
    "_s = 1.02\n",
    "_xbar = 9.95\n",
    "# critical_value=0\n",
    "MyStats.ConfidenceIntervals.get_ci_with_sigma_unknown(level_of_confidence=_loc,n=_n,s=_s,xbar=_xbar)"
   ]
  },
  {
   "cell_type": "markdown",
   "metadata": {},
   "source": [
    "<img src=\"images\\7\\2_a_1.PNG\" width=\"500\" height=\"600\">\n",
    "<img src=\"images\\7\\2_a_2.PNG\" width=\"500\" height=\"600\">"
   ]
  },
  {
   "cell_type": "markdown",
   "metadata": {},
   "source": []
  },
  {
   "cell_type": "markdown",
   "metadata": {},
   "source": []
  }
 ],
 "metadata": {
  "kernelspec": {
   "display_name": "Python 3",
   "language": "python",
   "name": "python3"
  },
  "language_info": {
   "codemirror_mode": {
    "name": "ipython",
    "version": 3
   },
   "file_extension": ".py",
   "mimetype": "text/x-python",
   "name": "python",
   "nbconvert_exporter": "python",
   "pygments_lexer": "ipython3",
   "version": "3.7.1"
  }
 },
 "nbformat": 4,
 "nbformat_minor": 2
}
