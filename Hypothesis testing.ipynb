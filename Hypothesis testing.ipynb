{
 "cells": [
  {
   "cell_type": "code",
   "execution_count": null,
   "metadata": {},
   "outputs": [],
   "source": [
    "import statistics\n",
    "import numpy as np\n",
    "import math\n",
    "from scipy import stats\n",
    "import scipy"
   ]
  },
  {
   "cell_type": "code",
   "execution_count": null,
   "metadata": {},
   "outputs": [],
   "source": [
    "# creating a simple data - set \n",
    "A = [48.3,36.2,68.3,24.8,32.8,71.4,49.1,58.3]\n",
    "B = [50.1,35.1,64.2,29.1,38.3,68.5,53.8,51.9]\n",
    "description = \"tend to be more flaked tools than nonflaked tools at this excavation site\"\n",
    "#Level of Significance\n",
    "los = .05\n",
    "\n",
    "#Null Hypothesis\n",
    "H0 = \"H0 : \\u03BC = 0\"\n",
    "\n",
    "#Alternate hypothesis\n",
    "H1Operator = \"<>\"\n",
    "\n",
    "H1 = \"H0 : \\u03BC {} 0\".format(H1Operator)\n",
    "\n",
    "#Type of test 1 tailed or 2 tailed\n",
    "typeOfTest = 1\n",
    "if(H1Operator == \"<>\"):\n",
    "    typeOfTest = 2\n",
    "\n",
    "\n",
    "#difference of paired samples\n",
    "sample = np.subtract(B, A)\n",
    "#standard Deviation\n",
    "sd = round(np.std(sample, ddof=1),3)\n",
    "#mean of paired differences\n",
    "dbar = round(scipy.mean(sample),3)\n",
    "#Length of sample data\n",
    "n = len(A)\n",
    "#Degrees of Freedom\n",
    "df = n-1\n",
    "#Sample test statistic\n",
    "t = round(dbar/(sd/math.sqrt(n)),3)\n",
    "#PValue (value depends on type of test)\n",
    "\n",
    "# this might change based on the tailed type of test...\n",
    "# Test it out...\n",
    "if(H1Operator == \"<>\"):\n",
    "    #left tailed test - we don't need to subtract from 1\n",
    "    p = (stats.t.cdf(t,df=df))*typeOfTest\n",
    "else :\n",
    "    p = (1 - stats.t.cdf(t,df=df))*typeOfTest\n",
    "\n",
    "#Print out a summary of the problem:\n",
    "print (sample)\n",
    "print(\"{}\".format(H0))\n",
    "print(\"{}\".format(H1))\n",
    "print(\"Level of Significance: {}\".format(los))\n",
    "\n",
    "print(\"Standard Deviation: {}\".format(sd))\n",
    "print(\"DBar: {}\".format(dbar))\n",
    "print(\"Degrees of Freedom: {}\".format(df))\n",
    "print(\"Sample Size: {}\".format(n))\n",
    "print(\"Sampe Test Statisic t: {}\".format(t))\n",
    "print(\"PValue: {}\".format(p))\n",
    "print(\" \")\n",
    "if(p <= los) :\n",
    "    #Reject H0\n",
    "    print(\"Since the P-Value({}) is <= {} we reject the H0. The Data is statistically significant\".format(str(p),str(los)))\n",
    "    print(\"At the los of significance the evidence is sufficient to claim that the population mean is (more/less/different)....Work out the verbage here\")\n",
    "else:\n",
    "    #Fail to Reject H0\n",
    "    print(\"Since the P-Value ({}) is > {} we fail to reject the H0. The Data is not statistically significant\".format(str(p),str(los)))\n",
    "    print(\"At the {} of significance, the evidence is insufficient to claim that the sample mean is {} than the population mean for {}\".format(str(los), H1Operator, description))"
   ]
  },
  {
   "cell_type": "code",
   "execution_count": null,
   "metadata": {},
   "outputs": [],
   "source": [
    "mylist = [[1,2,3],['dog',4,'cat',5],[(7,5),(2,3),(4,1)]]"
   ]
  },
  {
   "cell_type": "code",
   "execution_count": null,
   "metadata": {},
   "outputs": [],
   "source": [
    "mylist[1][2] = 'bird'"
   ]
  },
  {
   "cell_type": "code",
   "execution_count": null,
   "metadata": {},
   "outputs": [],
   "source": [
    "mylist = [0]*5"
   ]
  },
  {
   "cell_type": "code",
   "execution_count": null,
   "metadata": {},
   "outputs": [],
   "source": [
    "T = (1,2,3)\n",
    "T = T +(10,)\n",
    "len(T)"
   ]
  },
  {
   "cell_type": "code",
   "execution_count": null,
   "metadata": {},
   "outputs": [],
   "source": []
  }
 ],
 "metadata": {
  "kernelspec": {
   "display_name": "Python 3",
   "language": "python",
   "name": "python3"
  },
  "language_info": {
   "codemirror_mode": {
    "name": "ipython",
    "version": 3
   },
   "file_extension": ".py",
   "mimetype": "text/x-python",
   "name": "python",
   "nbconvert_exporter": "python",
   "pygments_lexer": "ipython3",
   "version": "3.7.1"
  }
 },
 "nbformat": 4,
 "nbformat_minor": 2
}
