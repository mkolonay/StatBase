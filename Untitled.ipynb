{
 "cells": [
  {
   "cell_type": "code",
   "execution_count": 2,
   "metadata": {},
   "outputs": [],
   "source": [
    "from stat_base import MyStats"
   ]
  },
  {
   "cell_type": "code",
   "execution_count": null,
   "metadata": {},
   "outputs": [],
   "source": [
    "MyStats.GetConfidenceIntervals.Normal.with_sigma_known(level_of_confidence=.95,n=35,sigma=3.8,xbar=5.1)"
   ]
  },
  {
   "cell_type": "code",
   "execution_count": null,
   "metadata": {},
   "outputs": [],
   "source": [
    "MyStats.GetConfidenceIntervals.Normal.with_sigma_unknown(level_of_confidence=.95,n=46,s=27.9,xbar=64.2)  "
   ]
  },
  {
   "cell_type": "code",
   "execution_count": null,
   "metadata": {},
   "outputs": [],
   "source": [
    "MyStats.GetSampleSize.Normal.with_sigma_known(level_of_confidence=.95, E=1.10,sigma=1.85)"
   ]
  },
  {
   "cell_type": "code",
   "execution_count": null,
   "metadata": {},
   "outputs": [],
   "source": [
    "MyStats.GetConfidenceIntervals.Binomial(n=328, r=171, level_of_confidence=.95)"
   ]
  },
  {
   "cell_type": "code",
   "execution_count": null,
   "metadata": {},
   "outputs": [],
   "source": [
    "MyStats.GetSampleSize.Binomial.with_p_estimate(p=.17,level_of_confidence=.80,E=.03)"
   ]
  },
  {
   "cell_type": "code",
   "execution_count": null,
   "metadata": {},
   "outputs": [],
   "source": [
    "MyStats.GetSampleSize.Binomial.without_p_estimate(level_of_confidence=.80,E=.03)"
   ]
  },
  {
   "cell_type": "code",
   "execution_count": null,
   "metadata": {},
   "outputs": [],
   "source": [
    "MyStats.GetProbability.NormalDistribution.p.between(x1=3, x2=6, mu=68, sigma=2)"
   ]
  },
  {
   "cell_type": "code",
   "execution_count": null,
   "metadata": {},
   "outputs": [],
   "source": [
    "MyStats.GetProbability.NormalDistribution.z.between(.98)"
   ]
  },
  {
   "cell_type": "code",
   "execution_count": null,
   "metadata": {},
   "outputs": [],
   "source": [
    "MyStats.GetProbability.SamplingDistribution.p.between(x1=68,x2=73 ,n=16, mu=72, sigma=3)"
   ]
  },
  {
   "cell_type": "code",
   "execution_count": null,
   "metadata": {},
   "outputs": [],
   "source": []
  },
  {
   "cell_type": "code",
   "execution_count": null,
   "metadata": {},
   "outputs": [],
   "source": [
    "_H0=\"Gentle Ben has an average glucose level equal to the mean glucose levels for horses\"\n",
    "_H1=\"Gentle Ben has an average glucose level greater to the mean glucose levels for horses\"\n",
    "\n",
    "_xbar=17.3\n",
    "_mu=16.4\n",
    "_sigma=3.5\n",
    "_n=36\n",
    "_alpha=.01\n",
    "_test_type = 'greater'\n",
    "\n",
    "MyStats.HypothesisTesting.SigmaIsKnown.test_hypothesis(xbar=_xbar, mu=_mu, sigma=_sigma, n=_n, H0=_H0, H1=_H1, alpha=_alpha, test_type=_test_type)"
   ]
  },
  {
   "cell_type": "code",
   "execution_count": null,
   "metadata": {},
   "outputs": [],
   "source": [
    "MyStats.Graphs.Normal.showGraph([-1,1], 'between')"
   ]
  },
  {
   "cell_type": "code",
   "execution_count": null,
   "metadata": {},
   "outputs": [],
   "source": [
    "MyStats.Probability.Students.get_lte_x(xbar=2.92, n=61, s=.85, mu=2.6)"
   ]
  },
  {
   "cell_type": "code",
   "execution_count": null,
   "metadata": {},
   "outputs": [],
   "source": [
    "_H0=\"the patient's HC is about the population mean of 14\"\n",
    "_H1=\"the patient's HC is less than the population mean of 14\"\n",
    "\n",
    "_xbar=15.1\n",
    "_mu=14\n",
    "_s=2.51\n",
    "_n=10\n",
    "_alpha=.01\n",
    "_test_type = 'greater'\n",
    "\n",
    "MyStats.HypothesisTesting.SigmaIsUnKnown.test_hypothesis(xbar=_xbar, mu=_mu, s=_s, n=_n, H0=_H0, H1=_H1, alpha=_alpha, test_type=_test_type)"
   ]
  },
  {
   "cell_type": "code",
   "execution_count": null,
   "metadata": {},
   "outputs": [],
   "source": [
    "_H0=\"proportion of patients having headaches is 12%\"\n",
    "_H1=\"proportion of patients having headaches is less than 12%\"\n",
    "\n",
    "_r=16\n",
    "_n=209\n",
    "_p =.12\n",
    "_alpha=.01\n",
    "_test_type = 'less'\n",
    "\n",
    "MyStats.HypothesisTesting.Proportion.test_hypothesis(r=_r, n=_n, p=_p, H0=_H0, H1=_H1, alpha=_alpha, test_type=_test_type)"
   ]
  },
  {
   "cell_type": "code",
   "execution_count": 7,
   "metadata": {},
   "outputs": [
    {
     "name": "stdout",
     "output_type": "stream",
     "text": [
      "{'ssubd': 0.447, 'dbar': -0.4, 'n': 6, 'sample': array([-0.6, -0.5,  0.1,  0.2, -0.7, -0.9])}\n"
     ]
    },
    {
     "data": {
      "text/latex": [
       "n does not meet minimum requirements. Does d have a normal distribution or has a mound-shaped symmetric distribution?"
      ],
      "text/plain": [
       "<IPython.core.display.Latex object>"
      ]
     },
     "metadata": {},
     "output_type": "display_data"
    },
    {
     "data": {
      "text/latex": [
       "$\\alpha =  0.05 $"
      ],
      "text/plain": [
       "<IPython.core.display.Latex object>"
      ]
     },
     "metadata": {},
     "output_type": "display_data"
    },
    {
     "data": {
      "text/latex": [
       "$H_{0} : \\mu_{d} = 0 $"
      ],
      "text/plain": [
       "<IPython.core.display.Latex object>"
      ]
     },
     "metadata": {},
     "output_type": "display_data"
    },
    {
     "data": {
      "text/latex": [
       "$H_{1} : \\mu_{d} < 0 $"
      ],
      "text/plain": [
       "<IPython.core.display.Latex object>"
      ]
     },
     "metadata": {},
     "output_type": "display_data"
    },
    {
     "data": {
      "text/latex": [
       "$ df =  5 $"
      ],
      "text/plain": [
       "<IPython.core.display.Latex object>"
      ]
     },
     "metadata": {},
     "output_type": "display_data"
    },
    {
     "data": {
      "text/latex": [
       "$ P(\\bar{d} \\leq -0.4) $"
      ],
      "text/plain": [
       "<IPython.core.display.Latex object>"
      ]
     },
     "metadata": {},
     "output_type": "display_data"
    },
    {
     "data": {
      "text/latex": [
       "$ t = \\frac{  \\bar{d} - 0  }{\\frac{ s_{d}  }{ \\sqrt{n} }} = \\frac{\\bar{d} * \\sqrt{n}}{s_{d}} = \\frac{-0.4 * 6}{0.447} = -2.192 $"
      ],
      "text/plain": [
       "<IPython.core.display.Latex object>"
      ]
     },
     "metadata": {},
     "output_type": "display_data"
    },
    {
     "data": {
      "text/latex": [
       "$ P(\\bar{d} \\leq -0.4) = P(t \\leq -2.192) = 0.0399 $"
      ],
      "text/plain": [
       "<IPython.core.display.Latex object>"
      ]
     },
     "metadata": {},
     "output_type": "display_data"
    },
    {
     "data": {
      "image/png": "[encoded data removed]",
      "text/plain": [
       "<Figure size 432x288 with 1 Axes>"
      ]
     },
     "metadata": {},
     "output_type": "display_data"
    },
    {
     "data": {
      "text/latex": [
       "$P-value = 0.0399 $"
      ],
      "text/plain": [
       "<IPython.core.display.Latex object>"
      ]
     },
     "metadata": {},
     "output_type": "display_data"
    },
    {
     "data": {
      "text/latex": [
       "We reject the null hypothesis. The data are significant at $\\alpha = 0.05 $"
      ],
      "text/plain": [
       "<IPython.core.display.Latex object>"
      ]
     },
     "metadata": {},
     "output_type": "display_data"
    },
    {
     "name": "stdout",
     "output_type": "stream",
     "text": [
      "At the 0.05 level of significance , the sample mean of differences is sufficiently different from 0 that we conclude the population mean of the differences is not zero.\n"
     ]
    }
   ],
   "source": [
    "_H0=\"proportion of patients having headaches is 12%\"\n",
    "_H1=\"proportion of patients having headaches is less than 12%\"\n",
    "\n",
    "a = [3.6,4.2,2.9,3.1,3.5,3.9]\n",
    "b = [3.0,3.7,3.0,3.3,2.8,3.0]\n",
    "\n",
    "pairedDiffStats = MyStats.HypothesisTesting.PairedDifference.get_stats_from_lists(a,b)\n",
    "\n",
    "print(pairedDiffStats)\n",
    "\n",
    "_dbar=pairedDiffStats['dbar']\n",
    "_ssubd=pairedDiffStats['ssubd']\n",
    "_n=pairedDiffStats['n']\n",
    "\n",
    "\n",
    "_alpha=.05\n",
    "# (b-a)\n",
    "_test_type='less' \n",
    "\n",
    "MyStats.HypothesisTesting.PairedDifference.test_hypothesis(dbar=_dbar, ssubd=_ssubd, n=_n, H0=_H0, H1=_H1, alpha=_alpha, test_type=_test_type)\n",
    "\n",
    "\n",
    "\n"
   ]
  },
  {
   "cell_type": "code",
   "execution_count": null,
   "metadata": {},
   "outputs": [],
   "source": []
  }
 ],
 "metadata": {
  "kernelspec": {
   "display_name": "Python 3",
   "language": "python",
   "name": "python3"
  },
  "language_info": {
   "codemirror_mode": {
    "name": "ipython",
    "version": 3
   },
   "file_extension": ".py",
   "mimetype": "text/x-python",
   "name": "python",
   "nbconvert_exporter": "python",
   "pygments_lexer": "ipython3",
   "version": "3.7.1"
  }
 },
 "nbformat": 4,
 "nbformat_minor": 2
}
