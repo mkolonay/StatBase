{
 "cells": [
  {
   "cell_type": "code",
   "execution_count": 1,
   "metadata": {},
   "outputs": [],
   "source": [
    "from stat_base import MyStats"
   ]
  },
  {
   "cell_type": "markdown",
   "metadata": {},
   "source": [
    "<img src=\"images\\8\\4_11.PNG\" width=\"500\" height=\"600\">\n"
   ]
  },
  {
   "cell_type": "code",
   "execution_count": null,
   "metadata": {},
   "outputs": [],
   "source": [
    "# We will subtract a from b so the difference will be b-a\n",
    "_listb = january = [139, 122, 126, 64, 78]\n",
    "_lista = april = [104, 113, 100, 88, 61]\n",
    "\n",
    "_alpha = 0.01\n",
    "\n",
    "_H0 = \"The peak wind gusts are not different in January than in April\"\n",
    "_H1 = \"The peak wind gusts are higher in January than in April\"\n",
    "\n",
    "# less, greater, different\n",
    "_test_type = 'greater'\n",
    "\n",
    "MyStats.HypothesisTesting.PairedDifference.test_hypothesis(lista=_lista , listb=_listb , H0=_H0, H1=_H1, alpha=_alpha, test_type=_test_type)"
   ]
  },
  {
   "cell_type": "markdown",
   "metadata": {},
   "source": [
    "<img src=\"images\\8\\4_10.PNG\" width=\"500\" height=\"600\">\n",
    "\n"
   ]
  },
  {
   "cell_type": "code",
   "execution_count": null,
   "metadata": {},
   "outputs": [],
   "source": [
    "Shore = [1.6, 1.8, 2.0, 3.2, 3.9, 3.6, 3.3]\n",
    "Boat = [1.5, 1.4, 1.6, 2.2, 3.3, 3.0, 3.8]\n",
    "_alpha = 0.01\n",
    "\n",
    "_H0 = \"There is no difference of mean hours per fish between fishing from boat than fishing from shore\"\n",
    "_H1 = \"There is a difference of mean hours per fish between fishing from boat than fishing from shore\"\n",
    "\n",
    "_test_type = 'different'\n",
    "\n",
    "_lista = Shore\n",
    "_listb = Boat\n",
    "\n",
    "MyStats.HypothesisTesting.PairedDifference.test_hypothesis(lista=_lista , listb=_listb , H0=_H0, H1=_H1, alpha=_alpha, test_type=_test_type)"
   ]
  },
  {
   "cell_type": "markdown",
   "metadata": {},
   "source": [
    "<img src=\"images\\8\\4_14.PNG\" width=\"500\" height=\"600\">\n",
    "<img src=\"images\\8\\4_14_2.PNG\" width=\"500\" height=\"600\">"
   ]
  },
  {
   "cell_type": "code",
   "execution_count": 2,
   "metadata": {},
   "outputs": [
    {
     "name": "stdout",
     "output_type": "stream",
     "text": [
      "[-2.9  1.1 -2.1  2.1  1.4  1.8 -3.3 -5.1  1.6  1.3 -4.  -5.6  7.6 -0.9\n",
      " -4.1 -6.5]\n"
     ]
    },
    {
     "data": {
      "text/latex": [
       "$\\bar{d} =  -1.1 $"
      ],
      "text/plain": [
       "<IPython.core.display.Latex object>"
      ]
     },
     "metadata": {},
     "output_type": "display_data"
    },
    {
     "data": {
      "text/latex": [
       "$s_{d} =  3.745 $"
      ],
      "text/plain": [
       "<IPython.core.display.Latex object>"
      ]
     },
     "metadata": {},
     "output_type": "display_data"
    },
    {
     "data": {
      "text/latex": [
       "n does not meet minimum requirements. Does d have a normal distribution or has a mound-shaped symmetric distribution?"
      ],
      "text/plain": [
       "<IPython.core.display.Latex object>"
      ]
     },
     "metadata": {},
     "output_type": "display_data"
    },
    {
     "data": {
      "text/latex": [
       "$\\alpha =  0.01 $"
      ],
      "text/plain": [
       "<IPython.core.display.Latex object>"
      ]
     },
     "metadata": {},
     "output_type": "display_data"
    },
    {
     "data": {
      "text/latex": [
       "$H_{0} : \\mu_{d} = 0 $"
      ],
      "text/plain": [
       "<IPython.core.display.Latex object>"
      ]
     },
     "metadata": {},
     "output_type": "display_data"
    },
    {
     "data": {
      "text/latex": [
       "$H_{1} : \\mu_{d} \\neq 0 $"
      ],
      "text/plain": [
       "<IPython.core.display.Latex object>"
      ]
     },
     "metadata": {},
     "output_type": "display_data"
    },
    {
     "data": {
      "text/latex": [
       "$ df =  15 $"
      ],
      "text/plain": [
       "<IPython.core.display.Latex object>"
      ]
     },
     "metadata": {},
     "output_type": "display_data"
    },
    {
     "data": {
      "text/latex": [
       "$ P(\\bar{d} \\geq -1.1) $"
      ],
      "text/plain": [
       "<IPython.core.display.Latex object>"
      ]
     },
     "metadata": {},
     "output_type": "display_data"
    },
    {
     "data": {
      "text/latex": [
       "$ t = \\frac{  \\bar{d} - 0  }{\\frac{ s_{d}  }{ \\sqrt{n} }} = \\frac{\\bar{d} * \\sqrt{n}}{s_{d}} = \\frac{-1.1 * 16}{3.745} = -1.175 $"
      ],
      "text/plain": [
       "<IPython.core.display.Latex object>"
      ]
     },
     "metadata": {},
     "output_type": "display_data"
    },
    {
     "data": {
      "text/latex": [
       "$ P(\\bar{d} \\geq -1.1) = P(t \\geq -1.175) = 1 - P(t < -1.175) = 1-0.1292 = 0.8708 $"
      ],
      "text/plain": [
       "<IPython.core.display.Latex object>"
      ]
     },
     "metadata": {},
     "output_type": "display_data"
    },
    {
     "name": "stdout",
     "output_type": "stream",
     "text": [
      "The z value is less than 0, using lte\n"
     ]
    },
    {
     "data": {
      "text/latex": [
       "$ df =  15 $"
      ],
      "text/plain": [
       "<IPython.core.display.Latex object>"
      ]
     },
     "metadata": {},
     "output_type": "display_data"
    },
    {
     "data": {
      "text/latex": [
       "$ P(\\bar{d} \\leq -1.1) $"
      ],
      "text/plain": [
       "<IPython.core.display.Latex object>"
      ]
     },
     "metadata": {},
     "output_type": "display_data"
    },
    {
     "data": {
      "text/latex": [
       "$ t = \\frac{  \\bar{d} - 0  }{\\frac{ s_{d}  }{ \\sqrt{n} }} = \\frac{\\bar{d} * \\sqrt{n}}{s_{d}} = \\frac{-1.1 * 16}{3.745} = -1.175 $"
      ],
      "text/plain": [
       "<IPython.core.display.Latex object>"
      ]
     },
     "metadata": {},
     "output_type": "display_data"
    },
    {
     "data": {
      "text/latex": [
       "$ P(\\bar{d} \\leq -1.1) = P(t \\leq -1.175) = 0.1292 $"
      ],
      "text/plain": [
       "<IPython.core.display.Latex object>"
      ]
     },
     "metadata": {},
     "output_type": "display_data"
    },
    {
     "data": {
      "image/png": "[encoded data removed]",
      "text/plain": [
       "<Figure size 432x288 with 1 Axes>"
      ]
     },
     "metadata": {},
     "output_type": "display_data"
    },
    {
     "data": {
      "text/latex": [
       "$P-value = 0.2584 $"
      ],
      "text/plain": [
       "<IPython.core.display.Latex object>"
      ]
     },
     "metadata": {},
     "output_type": "display_data"
    },
    {
     "name": "stdout",
     "output_type": "stream",
     "text": [
      "We fail to reject the null hypothesis\n",
      "At the 0.01 level of significance, the evidence is insufficient to claim a difference in population mean percentage increase/decrease/difference for There is a difference in population average birthrate and deathrate in this region\n"
     ]
    }
   ],
   "source": [
    "_lista = A = [12.7, 13.4, 12.8, 12.1, 11.6, 11.1, 14.2, 15.1, 12.5, 12.3, 13.1, 15.8, 10.3, 12.7, 11.1, 15.7]\n",
    "_listb = B = [9.8, 14.5, 10.7, 14.2, 13.0, 12.9, 10.9, 10.0, 14.1, 13.6, 9.1, 10.2, 17.9, 11.8, 7.0, 9.2]\n",
    "\n",
    "_alpha = 0.01\n",
    "\n",
    "_H0 = \"There is no difference in population average birthrate and deathrate in this region\"\n",
    "_H1 = \"There is a difference in population average birthrate and deathrate in this region\"\n",
    "\n",
    "# less, greater, different\n",
    "_test_type = 'different'\n",
    "\n",
    "MyStats.HypothesisTesting.PairedDifference.test_hypothesis(lista=_lista , listb=_listb , H0=_H0, H1=_H1, alpha=_alpha, test_type=_test_type)"
   ]
  },
  {
   "cell_type": "code",
   "execution_count": null,
   "metadata": {},
   "outputs": [],
   "source": []
  }
 ],
 "metadata": {
  "kernelspec": {
   "display_name": "Python 3",
   "language": "python",
   "name": "python3"
  },
  "language_info": {
   "codemirror_mode": {
    "name": "ipython",
    "version": 3
   },
   "file_extension": ".py",
   "mimetype": "text/x-python",
   "name": "python",
   "nbconvert_exporter": "python",
   "pygments_lexer": "ipython3",
   "version": "3.7.1"
  }
 },
 "nbformat": 4,
 "nbformat_minor": 2
}
