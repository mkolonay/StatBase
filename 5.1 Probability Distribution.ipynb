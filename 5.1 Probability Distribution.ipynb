{
 "cells": [
  {
   "cell_type": "code",
   "execution_count": 1,
   "metadata": {},
   "outputs": [],
   "source": [
    "from stat_base import MyStats"
   ]
  },
  {
   "cell_type": "markdown",
   "metadata": {},
   "source": [
    "<img src=\"images\\5\\1_13.PNG\" width=\"500\" height=\"600\">"
   ]
  },
  {
   "cell_type": "code",
   "execution_count": 2,
   "metadata": {},
   "outputs": [
    {
     "data": {
      "image/png": "[encoded data removed]",
      "text/plain": [
       "<Figure size 432x288 with 1 Axes>"
      ]
     },
     "metadata": {},
     "output_type": "display_data"
    }
   ],
   "source": [
    "relative_frequencies = [.44,.36,.15,.04,.01]\n",
    "values = [0,1,2,3,4]\n",
    "_legend = 'legend'\n",
    "_y_label = \"y label\"\n",
    "_title = \"Title\"\n",
    "MyStats.Graphs.Histogram.make_plot(array=relative_frequencies, legend=_legend, x_labels=values, y_label=_y_label,  title=_title)"
   ]
  },
  {
   "cell_type": "code",
   "execution_count": 3,
   "metadata": {},
   "outputs": [
    {
     "name": "stdout",
     "output_type": "stream",
     "text": [
      "b) 0.56\n",
      "c) 0.2\n",
      "Calculating mean for of a discrete population probability distribution \n"
     ]
    },
    {
     "data": {
      "text/latex": [
       "$ \\mu = \\sum{xP(x)}$"
      ],
      "text/plain": [
       "<IPython.core.display.Latex object>"
      ]
     },
     "metadata": {},
     "output_type": "display_data"
    },
    {
     "data": {
      "text/latex": [
       "$ \\mu = 0.82$"
      ],
      "text/plain": [
       "<IPython.core.display.Latex object>"
      ]
     },
     "metadata": {},
     "output_type": "display_data"
    },
    {
     "name": "stdout",
     "output_type": "stream",
     "text": [
      "****************************\n",
      "d) 0.82\n",
      "Calculating standard deviation for of a discrete population probability distribution \n",
      "Calculating mean for of a discrete population probability distribution \n"
     ]
    },
    {
     "data": {
      "text/latex": [
       "$ \\mu = \\sum{xP(x)}$"
      ],
      "text/plain": [
       "<IPython.core.display.Latex object>"
      ]
     },
     "metadata": {},
     "output_type": "display_data"
    },
    {
     "data": {
      "text/latex": [
       "$ \\mu = 0.82$"
      ],
      "text/plain": [
       "<IPython.core.display.Latex object>"
      ]
     },
     "metadata": {},
     "output_type": "display_data"
    },
    {
     "name": "stdout",
     "output_type": "stream",
     "text": [
      "****************************\n"
     ]
    },
    {
     "data": {
      "text/latex": [
       "$ \\sigma = \\sqrt{\\sum{(x - \\mu)^2 P(x)}} $"
      ],
      "text/plain": [
       "<IPython.core.display.Latex object>"
      ]
     },
     "metadata": {},
     "output_type": "display_data"
    },
    {
     "data": {
      "text/latex": [
       "$ \\sigma =  0.899 $"
      ],
      "text/plain": [
       "<IPython.core.display.Latex object>"
      ]
     },
     "metadata": {},
     "output_type": "display_data"
    },
    {
     "name": "stdout",
     "output_type": "stream",
     "text": [
      "****************************\n",
      "e) 0.899\n"
     ]
    }
   ],
   "source": [
    "one_or_more = sum(relative_frequencies[1:len(relative_frequencies)])\n",
    "print(\"b) %s\" % one_or_more)\n",
    "two_or_more = sum(relative_frequencies[2:len(relative_frequencies)])\n",
    "print(\"c) %s\" % two_or_more)\n",
    "print('d) %s' %MyStats.DiscreteProbabilityDistribution.get_mu(values, relative_frequencies))\n",
    "print('e) %s' %MyStats.DiscreteProbabilityDistribution.get_sd(values, relative_frequencies, round_sd=3))"
   ]
  },
  {
   "cell_type": "code",
   "execution_count": null,
   "metadata": {},
   "outputs": [],
   "source": []
  },
  {
   "cell_type": "code",
   "execution_count": null,
   "metadata": {},
   "outputs": [],
   "source": []
  },
  {
   "cell_type": "code",
   "execution_count": null,
   "metadata": {},
   "outputs": [],
   "source": []
  },
  {
   "cell_type": "code",
   "execution_count": null,
   "metadata": {},
   "outputs": [],
   "source": []
  }
 ],
 "metadata": {
  "kernelspec": {
   "display_name": "Python 3",
   "language": "python",
   "name": "python3"
  },
  "language_info": {
   "codemirror_mode": {
    "name": "ipython",
    "version": 3
   },
   "file_extension": ".py",
   "mimetype": "text/x-python",
   "name": "python",
   "nbconvert_exporter": "python",
   "pygments_lexer": "ipython3",
   "version": "3.7.6"
  }
 },
 "nbformat": 4,
 "nbformat_minor": 2
}
