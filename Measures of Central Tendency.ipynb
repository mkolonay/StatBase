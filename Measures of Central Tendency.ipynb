{
 "cells": [
  {
   "cell_type": "code",
   "execution_count": 1,
   "metadata": {},
   "outputs": [],
   "source": [
    "from stat_base import MyStats"
   ]
  },
  {
   "cell_type": "code",
   "execution_count": null,
   "metadata": {},
   "outputs": [],
   "source": [
    "x = [20,16,19.8,18.4,17.1,15.5,14.7,17.1,15.4,16.2,15,17.2,16,17,14.4]\n",
    "y = [88.6,71.6,93.3,84.3,80.6,75.2,69.7,82.0,69.4,83.3,79.6,82.6,80.6,83.5,76.3]\n",
    "z = [19,19,27,28,18,35]\n",
    "a = [58,67,60,84,93,98,100]\n",
    "b = [2.1,1.95,2.6,2,1.85,2.25,2.15,2.25]\n",
    "\n",
    "x_value = []\n",
    "x_freq = []"
   ]
  },
  {
   "cell_type": "code",
   "execution_count": null,
   "metadata": {},
   "outputs": [],
   "source": [
    "MyStats.Graphs.Scatter.make_plot(x,y,False)"
   ]
  },
  {
   "cell_type": "code",
   "execution_count": 4,
   "metadata": {},
   "outputs": [
    {
     "data": {
      "text/plain": [
       "ModeResult(mode=array([2200]), count=array([3]))"
      ]
     },
     "execution_count": 4,
     "metadata": {},
     "output_type": "execute_result"
    }
   ],
   "source": [
    "MyStats.MeasuresOfCentralTendency.get_mode(array_values)"
   ]
  },
  {
   "cell_type": "code",
   "execution_count": null,
   "metadata": {},
   "outputs": [],
   "source": [
    "MyStats.MeasuresOfCentralTendency.get_median(z)"
   ]
  },
  {
   "cell_type": "code",
   "execution_count": null,
   "metadata": {},
   "outputs": [],
   "source": [
    "MyStats.MeasuresOfCentralTendency.get_mean(a)"
   ]
  },
  {
   "cell_type": "code",
   "execution_count": null,
   "metadata": {},
   "outputs": [],
   "source": [
    "MyStats.MeasuresOfCentralTendency.get_trim_mean([(a)],.05)"
   ]
  },
  {
   "cell_type": "code",
   "execution_count": null,
   "metadata": {},
   "outputs": [],
   "source": [
    "MyStats.MeasuresOfCentralTendency.get_range(z)"
   ]
  },
  {
   "cell_type": "code",
   "execution_count": null,
   "metadata": {},
   "outputs": [],
   "source": [
    "MyStats.MeasuresOfCentralTendency.get_variance(a)"
   ]
  },
  {
   "cell_type": "code",
   "execution_count": null,
   "metadata": {},
   "outputs": [],
   "source": [
    "MyStats.MeasuresOfCentralTendency.get_standard_deviation(a)"
   ]
  },
  {
   "cell_type": "code",
   "execution_count": null,
   "metadata": {},
   "outputs": [],
   "source": [
    "MyStats.MeasuresOfCentralTendency.get_coefficient_of_variation(values=b, type='pop')"
   ]
  },
  {
   "cell_type": "code",
   "execution_count": 3,
   "metadata": {},
   "outputs": [
    {
     "name": "stdout",
     "output_type": "stream",
     "text": [
      "count      10.000000\n",
      "mean     2280.000000\n",
      "std       261.618892\n",
      "min      1900.000000\n",
      "25%      2125.000000\n",
      "50%      2200.000000\n",
      "75%      2475.000000\n",
      "max      2700.000000\n",
      "Name: one, dtype: float64\n",
      "By the book\n",
      "Q1 : 2100.0\n",
      "Medan : 2200.0\n",
      "Q3 : 2500.0\n"
     ]
    }
   ],
   "source": [
    "array_values =    [2000,2200,2100,2400,2500,1900,2200,2200,2700,2600]\n",
    "MyStats.MeasuresOfCentralTendency.description(array_values)"
   ]
  },
  {
   "cell_type": "code",
   "execution_count": 3,
   "metadata": {},
   "outputs": [
    {
     "name": "stdout",
     "output_type": "stream",
     "text": [
      "10.0 X 0.21\n",
      "20.0 X 0.14\n",
      "30.0 X 0.22\n",
      "40.0 X 0.15\n",
      "50.0 X 0.2\n",
      "60 X 0.08\n"
     ]
    },
    {
     "data": {
      "text/plain": [
       "{'mean': 32.3, 'variance': 259.71, 'sd': 16.12}"
      ]
     },
     "execution_count": 3,
     "metadata": {},
     "output_type": "execute_result"
    }
   ],
   "source": [
    "cats = [\"5-15\",\"15-25\",\"25-35\",\"35-45\",\"45-55\",60]\n",
    "freqs = [.21,.14,.22,.15,.2,.08]\n",
    "MyStats.MeasuresOfCentralTendency.discrete_population_probability_distribution_describe(cats,freqs)"
   ]
  },
  {
   "cell_type": "code",
   "execution_count": null,
   "metadata": {},
   "outputs": [],
   "source": []
  }
 ],
 "metadata": {
  "kernelspec": {
   "display_name": "Python 3",
   "language": "python",
   "name": "python3"
  },
  "language_info": {
   "codemirror_mode": {
    "name": "ipython",
    "version": 3
   },
   "file_extension": ".py",
   "mimetype": "text/x-python",
   "name": "python",
   "nbconvert_exporter": "python",
   "pygments_lexer": "ipython3",
   "version": "3.7.1"
  }
 },
 "nbformat": 4,
 "nbformat_minor": 2
}
