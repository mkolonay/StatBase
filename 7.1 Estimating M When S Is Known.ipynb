{
 "cells": [
  {
   "cell_type": "code",
   "execution_count": null,
   "metadata": {},
   "outputs": [],
   "source": [
    "from stat_base import MyStats"
   ]
  },
  {
   "cell_type": "markdown",
   "metadata": {},
   "source": [
    "Section 7.1 problems: 11, 13, 17, and 21"
   ]
  },
  {
   "cell_type": "markdown",
   "metadata": {},
   "source": [
    "<img src=\"images\\7\\1_11.PNG\" width=\"500\" height=\"600\">"
   ]
  },
  {
   "cell_type": "code",
   "execution_count": null,
   "metadata": {},
   "outputs": [],
   "source": [
    "_loc = .9\n",
    "_n = 16\n",
    "_sigma = 6 \n",
    "_xbar = 50\n",
    "MyStats.ConfidenceIntervals.get_ci_with_sigma_known(level_of_confidence=_loc, n=_n, sigma=_sigma, xbar=_xbar)"
   ]
  },
  {
   "cell_type": "markdown",
   "metadata": {},
   "source": [
    "<img src=\"images\\7\\1_13.PNG\" width=\"500\" height=\"600\">"
   ]
  },
  {
   "cell_type": "code",
   "execution_count": null,
   "metadata": {},
   "outputs": [],
   "source": [
    "_loc = .95\n",
    "_E = .4\n",
    "_sigma = 3 \n",
    "MyStats.SampleSizes.Normal.with_sigma_known(level_of_confidence=_loc, E=_E, sigma=_sigma)"
   ]
  },
  {
   "cell_type": "markdown",
   "metadata": {},
   "source": [
    "<img src=\"images\\7\\1_17.PNG\" width=\"500\" height=\"600\">"
   ]
  },
  {
   "cell_type": "code",
   "execution_count": null,
   "metadata": {},
   "outputs": [],
   "source": [
    "_loc = .99\n",
    "_n = 45\n",
    "_sigma = 7.5 \n",
    "_xbar = 37.5\n",
    "_E = 2.5\n",
    "MyStats.ConfidenceIntervals.get_ci_with_sigma_known(level_of_confidence=_loc, n=_n, sigma=_sigma, xbar=_xbar)\n",
    "MyStats.SampleSizes.Normal.with_sigma_known(level_of_confidence=_loc, E=_E, sigma=_sigma)"
   ]
  },
  {
   "cell_type": "markdown",
   "metadata": {},
   "source": [
    "<img src=\"images\\7\\1_21.PNG\" width=\"500\" height=\"600\">"
   ]
  },
  {
   "cell_type": "code",
   "execution_count": null,
   "metadata": {},
   "outputs": [],
   "source": [
    "_loc = .95\n",
    "_sigma = 12 \n",
    "_xbar = 30\n",
    "_n = 49\n",
    "MyStats.ConfidenceIntervals.get_ci_with_sigma_known(level_of_confidence=_loc, n=_n, sigma=_sigma, xbar=_xbar)"
   ]
  },
  {
   "cell_type": "markdown",
   "metadata": {},
   "source": [
    "<img src=\"images\\7\\1_a_1.PNG\" width=\"500\" height=\"600\">\n",
    "<img src=\"images\\7\\1_a_2.PNG\" width=\"500\" height=\"600\">"
   ]
  },
  {
   "cell_type": "code",
   "execution_count": null,
   "metadata": {},
   "outputs": [],
   "source": []
  }
 ],
 "metadata": {
  "kernelspec": {
   "display_name": "Python 3",
   "language": "python",
   "name": "python3"
  },
  "language_info": {
   "codemirror_mode": {
    "name": "ipython",
    "version": 3
   },
   "file_extension": ".py",
   "mimetype": "text/x-python",
   "name": "python",
   "nbconvert_exporter": "python",
   "pygments_lexer": "ipython3",
   "version": "3.7.1"
  }
 },
 "nbformat": 4,
 "nbformat_minor": 2
}
