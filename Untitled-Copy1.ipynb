{
 "cells": [
  {
   "cell_type": "code",
   "execution_count": 1,
   "metadata": {},
   "outputs": [],
   "source": [
    "from stat_base import MyStats\n",
    "from IPython.display import display, Markdown, Latex"
   ]
  },
  {
   "cell_type": "code",
   "execution_count": null,
   "metadata": {},
   "outputs": [],
   "source": [
    "MyStats.ConfidenceIntervals.get_ci_paired_samples_with_sigma_known(level_of_confidence=.95, x1=5.2, x2=6.8, n1=167, n2=125, sigma1=1.9, sigma2=2.3)"
   ]
  },
  {
   "cell_type": "code",
   "execution_count": null,
   "metadata": {},
   "outputs": [],
   "source": [
    "_level_of_confidence=.99\n",
    "_x1=259.6\n",
    "_s1=12.1\n",
    "_n1=21\n",
    "\n",
    "_x2=205.8\n",
    "_s2=12.9\n",
    "_n2=19\n",
    "\n",
    "MyStats.ConfidenceIntervals.get_ci_paired_samples_with_sigma_unknown(level_of_confidence=_level_of_confidence, x1=_x1, x2=_x2, n1=_n1, n2=_n2, s1=_s1, s2=_s2)"
   ]
  },
  {
   "cell_type": "code",
   "execution_count": 2,
   "metadata": {},
   "outputs": [
    {
     "name": "stdout",
     "output_type": "stream",
     "text": [
      "1.645\n"
     ]
    },
    {
     "data": {
      "text/latex": [
       "$n_{1}*\\hat{p_{1}} = 132.0 $ and $n_{1}*\\hat{q_{1}} = 243.0$ and $n_{2}*\\hat{p_{2}} = 216.98$ and $n_{2}*\\hat{q_{2}} = 354.02$"
      ],
      "text/plain": [
       "<IPython.core.display.Latex object>"
      ]
     },
     "metadata": {},
     "output_type": "display_data"
    },
    {
     "name": "stdout",
     "output_type": "stream",
     "text": [
      "Are all greater than 5\n",
      "0.053\n"
     ]
    },
    {
     "data": {
      "text/latex": [
       "$E = z_{c} * \\hat{\\sigma} =  z_{c} * \\sqrt{  \\frac{  \\hat{p_{1}} * \\hat{q_{1}}  }{n_{1}} + \\frac{ \\hat{p_{2}} * \\hat{q_{2}}  }{n_{2}} } =  1.645 * \\sqrt{  \\frac{ 0.352*0.648 }{375} + \\frac{ 0.38*0.62 }{571} } =  1.645 * 0.032 = 0.053  $"
      ],
      "text/plain": [
       "<IPython.core.display.Latex object>"
      ]
     },
     "metadata": {},
     "output_type": "display_data"
    },
    {
     "data": {
      "text/latex": [
       "$( \\hat{p_{1}} - \\hat{p_{2}}) - E < p_{1} - p_{2} < ( \\hat{p_{1}} - \\hat{p_{2}}) + E$"
      ],
      "text/plain": [
       "<IPython.core.display.Latex object>"
      ]
     },
     "metadata": {},
     "output_type": "display_data"
    },
    {
     "data": {
      "text/latex": [
       "$( 0.352 - 0.38) - 0.053 < \\mu_{1} - \\mu_{2} < ( 0.352 -0.38) + 0.053$"
      ],
      "text/plain": [
       "<IPython.core.display.Latex object>"
      ]
     },
     "metadata": {},
     "output_type": "display_data"
    },
    {
     "data": {
      "text/latex": [
       "$-0.081< \\mu_{1} - \\mu_{2} < 0.025$"
      ],
      "text/plain": [
       "<IPython.core.display.Latex object>"
      ]
     },
     "metadata": {},
     "output_type": "display_data"
    },
    {
     "data": {
      "text/latex": [
       "The 0.9  confidence interval contains both positive and negative values. In this case, we cannot conclude that either $\\mu_{1}$ or $\\mu_{2}$ or $ p_{1}$ or $p_{2}$is larger "
      ],
      "text/plain": [
       "<IPython.core.display.Latex object>"
      ]
     },
     "metadata": {},
     "output_type": "display_data"
    }
   ],
   "source": [
    "_level_of_confidence = .90\n",
    "_n1 = 375\n",
    "_r1 = 132\n",
    "\n",
    "_n2 = 571\n",
    "_r2 = 217\n",
    "\n",
    "MyStats.ConfidenceIntervals.get_ci_paired_samples_porportions(level_of_confidence=_level_of_confidence, n1=_n1, n2=_n2, r1=_r1, r2=_r2)"
   ]
  },
  {
   "cell_type": "code",
   "execution_count": null,
   "metadata": {},
   "outputs": [],
   "source": []
  }
 ],
 "metadata": {
  "kernelspec": {
   "display_name": "Python 3",
   "language": "python",
   "name": "python3"
  },
  "language_info": {
   "codemirror_mode": {
    "name": "ipython",
    "version": 3
   },
   "file_extension": ".py",
   "mimetype": "text/x-python",
   "name": "python",
   "nbconvert_exporter": "python",
   "pygments_lexer": "ipython3",
   "version": "3.7.1"
  }
 },
 "nbformat": 4,
 "nbformat_minor": 2
}
