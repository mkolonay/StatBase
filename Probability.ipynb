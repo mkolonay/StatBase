{
 "cells": [
  {
   "cell_type": "code",
   "execution_count": 1,
   "metadata": {},
   "outputs": [],
   "source": [
    "from stat_base import MyStats\n",
    "import math"
   ]
  },
  {
   "cell_type": "code",
   "execution_count": null,
   "metadata": {},
   "outputs": [],
   "source": [
    "def get_probability(f,n):\n",
    "    return f/n\n",
    "\n",
    "get_probability(80,200)"
   ]
  },
  {
   "cell_type": "code",
   "execution_count": null,
   "metadata": {},
   "outputs": [],
   "source": [
    "def multiplication_rule():\n",
    "    test = input(\"Are these independent events?\")\n",
    "    if test=='y':\n",
    "        pof_a = float(input(\"P(A)\"))\n",
    "        pof_b = float(input(\"P(A)\"))\n",
    "        return pof_a*pof_b\n",
    "    \n",
    "    test = input(\"Do you have P(B | A)\")\n",
    "    if test=='y':\n",
    "        pof_b_given_a = float(input(\"P(B | A)\"))\n",
    "        pof_a = float(input(\"P(A)\"))\n",
    "        return pof_a*pof_b_given_a\n",
    "    \n",
    "    test = input(\"Do you have P(A | B)\")\n",
    "    if test=='y':\n",
    "        pof_a_given_b = float(input(\"P(A | B)\"))\n",
    "        pof_b = float(input(\"P(B)\"))\n",
    "        return pof_b*pof_a_given_b\n",
    "    \n",
    "    \n",
    "    test = input(\"Do you want P(A | B)\")\n",
    "    if test=='y':\n",
    "        pofa_and_b = float(input(\"P(A and B)\"))\n",
    "        pof_b = float(input(\"P(B)\"))\n",
    "        return pof_a_given_b/pof_b\n",
    "    \n",
    "    \n",
    "    test = input(\"Do you want P(B | A)\")\n",
    "    if test=='y':\n",
    "        pofa_and_b = float(input(\"P(A and B)\"))\n",
    "        pof_a = float(input(\"P(A)\"))\n",
    "        return pof_a_given_b/pof_a\n",
    "    \n",
    "    \n",
    "multiplication_rule()    "
   ]
  },
  {
   "cell_type": "code",
   "execution_count": 2,
   "metadata": {},
   "outputs": [
    {
     "data": {
      "text/plain": [
       "{'mean': 2.54, 'variance': 1.87, 'sd': 1.37}"
      ]
     },
     "execution_count": 2,
     "metadata": {},
     "output_type": "execute_result"
    }
   ],
   "source": [
    "# def get_midpoint(value):    \n",
    "#     midpoint = value\n",
    "#     if('-' in str(value)):        \n",
    "#         values = value.split('-')\n",
    "#         midpoint = float(values[0]) + (float(values[1])-float(values[0]))/2                         \n",
    "#     return midpoint\n",
    "\n",
    "# def discrete_population_probability_distribution_describe(values, probs, round_returns=2):   \n",
    "    \n",
    "#     mean = 0.0    \n",
    "#     for i, value in enumerate(values):                \n",
    "#         mean += get_midpoint(value)*probs[i]          \n",
    "    \n",
    "#     variance = 0    \n",
    "#     for i, value in enumerate(values):\n",
    "#         variance += ((get_midpoint(value)-mean)**2)*probs[i]    \n",
    "    \n",
    "#     sd = math.sqrt(variance)         \n",
    "    \n",
    "#     mean = round(mean,2)\n",
    "#     variance = round(variance,2)\n",
    "#     sd = round(sd,2)\n",
    "#     return {'mean':mean,'variance':variance,'sd':sd}\n",
    "\n",
    "values = [1,2,3,4,5]\n",
    "probs = [.27,.31,.18,.09,.15]\n",
    "\n",
    "MyStats.MeasuresOfCentralTendency.discrete_population_probability_distribution_describe(values,probs)"
   ]
  },
  {
   "cell_type": "code",
   "execution_count": null,
   "metadata": {},
   "outputs": [],
   "source": []
  }
 ],
 "metadata": {
  "kernelspec": {
   "display_name": "Python 3",
   "language": "python",
   "name": "python3"
  },
  "language_info": {
   "codemirror_mode": {
    "name": "ipython",
    "version": 3
   },
   "file_extension": ".py",
   "mimetype": "text/x-python",
   "name": "python",
   "nbconvert_exporter": "python",
   "pygments_lexer": "ipython3",
   "version": "3.7.1"
  }
 },
 "nbformat": 4,
 "nbformat_minor": 2
}
