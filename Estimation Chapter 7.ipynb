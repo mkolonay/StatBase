{
 "cells": [
  {
   "cell_type": "code",
   "execution_count": 41,
   "metadata": {},
   "outputs": [],
   "source": [
    "# sphinx_gallery_thumbnail_number = 3\n",
    "import matplotlib.pyplot as plt\n",
    "import numpy as np\n",
    "from scipy.stats import norm \n",
    "from IPython.display import display, Markdown, Latex\n",
    "import math"
   ]
  },
  {
   "cell_type": "markdown",
   "metadata": {},
   "source": [
    "Euler's identity: $ e^{i \\pi} + 1 = 0 $\n",
    "$\\frac{a}{b}$"
   ]
  },
  {
   "cell_type": "code",
   "execution_count": 20,
   "metadata": {},
   "outputs": [
    {
     "data": {
      "text/latex": [
       "$ e^{4 \\pi} + 1 = 0 $"
      ],
      "text/plain": [
       "<IPython.core.display.Latex object>"
      ]
     },
     "metadata": {},
     "output_type": "display_data"
    }
   ],
   "source": [
    "display(Latex('$ e^{%s \\pi} + 1 = 0 $' % 4 ))"
   ]
  },
  {
   "cell_type": "code",
   "execution_count": 82,
   "metadata": {},
   "outputs": [
    {
     "data": {
      "text/latex": [
       "E = $z_{c}\\frac{\\sigma}{\\sqrt{n}}$"
      ],
      "text/plain": [
       "<IPython.core.display.Latex object>"
      ]
     },
     "metadata": {},
     "output_type": "display_data"
    },
    {
     "data": {
      "text/latex": [
       "$ n= (\\frac{z_{c}\\sigma}{E}) $"
      ],
      "text/plain": [
       "<IPython.core.display.Latex object>"
      ]
     },
     "metadata": {},
     "output_type": "display_data"
    }
   ],
   "source": [
    "display(Latex(r'E = $z_{c}\\frac{\\sigma}{\\sqrt{n}}$'))\n",
    "display(Latex(r'$ n= (\\frac{z_{c}\\sigma}{E}) $'))"
   ]
  },
  {
   "cell_type": "code",
   "execution_count": 138,
   "metadata": {},
   "outputs": [
    {
     "data": {
      "text/latex": [
       "$ n= (\\frac{z_{c}\\sigma}{E})^2 $"
      ],
      "text/plain": [
       "<IPython.core.display.Latex object>"
      ]
     },
     "metadata": {},
     "output_type": "display_data"
    },
    {
     "data": {
      "text/latex": [
       "$ n= (\\frac{(2.58)(2.15)}{0.2})^2  = 769.2302249999998 $"
      ],
      "text/plain": [
       "<IPython.core.display.Latex object>"
      ]
     },
     "metadata": {},
     "output_type": "display_data"
    },
    {
     "data": {
      "text/latex": [
       "Rounded up to next whole number : 770"
      ],
      "text/plain": [
       "<IPython.core.display.Latex object>"
      ]
     },
     "metadata": {},
     "output_type": "display_data"
    }
   ],
   "source": [
    "def sample_size_for_estimating_the_mean(level_of_confidence, E, sigma):\n",
    "    critical_value = get_critical_value(level_of_confidence)\n",
    "    \n",
    "    display(Latex(r'$ n= (\\frac{z_{c}\\sigma}{E})^2 $'))\n",
    "    \n",
    "    n=((critical_value * sigma)/E)**2\n",
    "    n_rounded=math.ceil(((critical_value * sigma)/E)**2)\n",
    "    \n",
    "    display(Latex(r'$ n= (\\frac{(%s)(%s)}{%s})^2  = %s $'%(critical_value,sigma,E, n)))\n",
    "    display(Latex('Rounded up to next whole number : %s' % n_rounded))\n",
    "    \n",
    "    \n",
    "    \n",
    "    \n",
    "sample_size_for_estimating_the_mean(level_of_confidence=.99, E=.2,sigma=2.15 )"
   ]
  },
  {
   "cell_type": "code",
   "execution_count": 86,
   "metadata": {},
   "outputs": [],
   "source": [
    "def get_critical_value(level_of_confidence):\n",
    "    critical_value = round(norm.ppf(1-((1-level_of_confidence)/2)),2)\n",
    "    return critical_value"
   ]
  },
  {
   "cell_type": "code",
   "execution_count": 100,
   "metadata": {},
   "outputs": [],
   "source": [
    "from scipy.stats import t"
   ]
  },
  {
   "cell_type": "code",
   "execution_count": 136,
   "metadata": {},
   "outputs": [],
   "source": [
    "def get_students_critical_value(level_of_confidence,n):\n",
    "    df = n-1\n",
    "    if(df > 30):\n",
    "        print(\"CHECK TABLE, NEED TO ADJUST DF FOR HOMEWORK\")\n",
    "    adjusted_level_of_confidence = level_of_confidence + (1-level_of_confidence)/2\n",
    "    return(round(t.ppf(adjusted_level_of_confidence, df),3))"
   ]
  },
  {
   "cell_type": "code",
   "execution_count": null,
   "metadata": {},
   "outputs": [],
   "source": []
  }
 ],
 "metadata": {
  "kernelspec": {
   "display_name": "Python 3",
   "language": "python",
   "name": "python3"
  },
  "language_info": {
   "codemirror_mode": {
    "name": "ipython",
    "version": 3
   },
   "file_extension": ".py",
   "mimetype": "text/x-python",
   "name": "python",
   "nbconvert_exporter": "python",
   "pygments_lexer": "ipython3",
   "version": "3.7.1"
  }
 },
 "nbformat": 4,
 "nbformat_minor": 2
}
