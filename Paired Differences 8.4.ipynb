{
 "cells": [
  {
   "cell_type": "code",
   "execution_count": 2,
   "metadata": {},
   "outputs": [],
   "source": [
    "from stat_base import MyStats"
   ]
  },
  {
   "cell_type": "markdown",
   "metadata": {},
   "source": [
    "<img src=\"images\\8\\4_11.PNG\" width=\"500\" height=\"600\">\n"
   ]
  },
  {
   "cell_type": "code",
   "execution_count": 3,
   "metadata": {},
   "outputs": [
    {
     "name": "stdout",
     "output_type": "stream",
     "text": [
      "[ 35   9  26 -24  17]\n"
     ]
    },
    {
     "data": {
      "text/latex": [
       "n does not meet minimum requirements. Does d have a normal distribution or has a mound-shaped symmetric distribution?"
      ],
      "text/plain": [
       "<IPython.core.display.Latex object>"
      ]
     },
     "metadata": {},
     "output_type": "display_data"
    },
    {
     "data": {
      "text/latex": [
       "$\\alpha =  0.01 $"
      ],
      "text/plain": [
       "<IPython.core.display.Latex object>"
      ]
     },
     "metadata": {},
     "output_type": "display_data"
    },
    {
     "data": {
      "text/latex": [
       "$H_{0} : \\mu_{d} = 0 $"
      ],
      "text/plain": [
       "<IPython.core.display.Latex object>"
      ]
     },
     "metadata": {},
     "output_type": "display_data"
    },
    {
     "data": {
      "text/latex": [
       "$H_{1} : \\mu_{d} > 0 $"
      ],
      "text/plain": [
       "<IPython.core.display.Latex object>"
      ]
     },
     "metadata": {},
     "output_type": "display_data"
    },
    {
     "data": {
      "text/latex": [
       "$ df =  4 $"
      ],
      "text/plain": [
       "<IPython.core.display.Latex object>"
      ]
     },
     "metadata": {},
     "output_type": "display_data"
    },
    {
     "data": {
      "text/latex": [
       "$ P(\\bar{d} \\geq 12.6) $"
      ],
      "text/plain": [
       "<IPython.core.display.Latex object>"
      ]
     },
     "metadata": {},
     "output_type": "display_data"
    },
    {
     "data": {
      "text/latex": [
       "$ t = \\frac{  \\bar{d} - 0  }{\\frac{ s_{d}  }{ \\sqrt{n} }} = \\frac{\\bar{d} * \\sqrt{n}}{s_{d}} = \\frac{12.6 * 5}{22.656} = 1.244 $"
      ],
      "text/plain": [
       "<IPython.core.display.Latex object>"
      ]
     },
     "metadata": {},
     "output_type": "display_data"
    },
    {
     "data": {
      "text/latex": [
       "$ P(\\bar{d} \\geq 12.6) = P(t \\geq 1.244) = 1 - P(t < 1.244) = 1-0.8593 = 0.1407 $"
      ],
      "text/plain": [
       "<IPython.core.display.Latex object>"
      ]
     },
     "metadata": {},
     "output_type": "display_data"
    },
    {
     "data": {
      "image/png": "[encoded data removed]",
      "text/plain": [
       "<Figure size 432x288 with 1 Axes>"
      ]
     },
     "metadata": {},
     "output_type": "display_data"
    },
    {
     "data": {
      "text/latex": [
       "$P-value = 0.1407 $"
      ],
      "text/plain": [
       "<IPython.core.display.Latex object>"
      ]
     },
     "metadata": {},
     "output_type": "display_data"
    },
    {
     "name": "stdout",
     "output_type": "stream",
     "text": [
      "We fail to reject the null hypothesis\n",
      "At the 0.01 level of significance, the evidence is insufficient to claim a difference in population mean percentage increase/decrease/difference for The peak wind gusts are higher in January than in April\n"
     ]
    }
   ],
   "source": [
    "# We will subtract a from b so the difference will be b-a\n",
    "_listb = january = [139, 122, 126, 64, 78]\n",
    "_lista = april = [104, 113, 100, 88, 61]\n",
    "\n",
    "_alpha = 0.01\n",
    "\n",
    "_H0 = \"The peak wind gusts are not different in January than in April\"\n",
    "_H1 = \"The peak wind gusts are higher in January than in April\"\n",
    "\n",
    "# less, greater, different\n",
    "_test_type = 'greater'\n",
    "\n",
    "MyStats.HypothesisTesting.PairedDifference.test_hypothesis(lista=_lista , listb=_listb , H0=_H0, H1=_H1, alpha=_alpha, test_type=_test_type)"
   ]
  },
  {
   "cell_type": "markdown",
   "metadata": {},
   "source": [
    "<img src=\"images\\8\\4_10.PNG\" width=\"500\" height=\"600\">\n",
    "\n"
   ]
  },
  {
   "cell_type": "code",
   "execution_count": 4,
   "metadata": {},
   "outputs": [
    {
     "name": "stdout",
     "output_type": "stream",
     "text": [
      "[-0.1 -0.4 -0.4 -1.  -0.6 -0.6  0.5]\n"
     ]
    },
    {
     "data": {
      "text/latex": [
       "n does not meet minimum requirements. Does d have a normal distribution or has a mound-shaped symmetric distribution?"
      ],
      "text/plain": [
       "<IPython.core.display.Latex object>"
      ]
     },
     "metadata": {},
     "output_type": "display_data"
    },
    {
     "data": {
      "text/latex": [
       "$\\alpha =  0.01 $"
      ],
      "text/plain": [
       "<IPython.core.display.Latex object>"
      ]
     },
     "metadata": {},
     "output_type": "display_data"
    },
    {
     "data": {
      "text/latex": [
       "$H_{0} : \\mu_{d} = 0 $"
      ],
      "text/plain": [
       "<IPython.core.display.Latex object>"
      ]
     },
     "metadata": {},
     "output_type": "display_data"
    },
    {
     "data": {
      "text/latex": [
       "$H_{1} : \\mu_{d} \\neq 0 $"
      ],
      "text/plain": [
       "<IPython.core.display.Latex object>"
      ]
     },
     "metadata": {},
     "output_type": "display_data"
    },
    {
     "data": {
      "text/latex": [
       "$ df =  6 $"
      ],
      "text/plain": [
       "<IPython.core.display.Latex object>"
      ]
     },
     "metadata": {},
     "output_type": "display_data"
    },
    {
     "data": {
      "text/latex": [
       "$ P(\\bar{d} \\geq -0.371) $"
      ],
      "text/plain": [
       "<IPython.core.display.Latex object>"
      ]
     },
     "metadata": {},
     "output_type": "display_data"
    },
    {
     "data": {
      "text/latex": [
       "$ t = \\frac{  \\bar{d} - 0  }{\\frac{ s_{d}  }{ \\sqrt{n} }} = \\frac{\\bar{d} * \\sqrt{n}}{s_{d}} = \\frac{-0.371 * 7}{0.472} = -2.08 $"
      ],
      "text/plain": [
       "<IPython.core.display.Latex object>"
      ]
     },
     "metadata": {},
     "output_type": "display_data"
    },
    {
     "data": {
      "text/latex": [
       "$ P(\\bar{d} \\geq -0.371) = P(t \\geq -2.08) = 1 - P(t < -2.08) = 1-0.0414 = 0.9586 $"
      ],
      "text/plain": [
       "<IPython.core.display.Latex object>"
      ]
     },
     "metadata": {},
     "output_type": "display_data"
    },
    {
     "name": "stdout",
     "output_type": "stream",
     "text": [
      "The z value is less than 0, using lte\n"
     ]
    },
    {
     "data": {
      "text/latex": [
       "$ df =  6 $"
      ],
      "text/plain": [
       "<IPython.core.display.Latex object>"
      ]
     },
     "metadata": {},
     "output_type": "display_data"
    },
    {
     "data": {
      "text/latex": [
       "$ P(\\bar{d} \\leq -0.371) $"
      ],
      "text/plain": [
       "<IPython.core.display.Latex object>"
      ]
     },
     "metadata": {},
     "output_type": "display_data"
    },
    {
     "data": {
      "text/latex": [
       "$ t = \\frac{  \\bar{d} - 0  }{\\frac{ s_{d}  }{ \\sqrt{n} }} = \\frac{\\bar{d} * \\sqrt{n}}{s_{d}} = \\frac{-0.371 * 7}{0.472} = -2.08 $"
      ],
      "text/plain": [
       "<IPython.core.display.Latex object>"
      ]
     },
     "metadata": {},
     "output_type": "display_data"
    },
    {
     "data": {
      "text/latex": [
       "$ P(\\bar{d} \\leq -0.371) = P(t \\leq -2.08) = 0.0414 $"
      ],
      "text/plain": [
       "<IPython.core.display.Latex object>"
      ]
     },
     "metadata": {},
     "output_type": "display_data"
    },
    {
     "data": {
      "image/png": "[encoded data removed]",
      "text/plain": [
       "<Figure size 432x288 with 1 Axes>"
      ]
     },
     "metadata": {},
     "output_type": "display_data"
    },
    {
     "data": {
      "text/latex": [
       "$P-value = 0.0828 $"
      ],
      "text/plain": [
       "<IPython.core.display.Latex object>"
      ]
     },
     "metadata": {},
     "output_type": "display_data"
    },
    {
     "name": "stdout",
     "output_type": "stream",
     "text": [
      "We fail to reject the null hypothesis\n",
      "At the 0.01 level of significance, the evidence is insufficient to claim a difference in population mean percentage increase/decrease/difference for There is a difference of mean hours per fish between fishing from boat than fishing from shore\n"
     ]
    }
   ],
   "source": [
    "Shore = [1.6, 1.8, 2.0, 3.2, 3.9, 3.6, 3.3]\n",
    "Boat = [1.5, 1.4, 1.6, 2.2, 3.3, 3.0, 3.8]\n",
    "_alpha = 0.01\n",
    "\n",
    "_H0 = \"There is no difference of mean hours per fish between fishing from boat than fishing from shore\"\n",
    "_H1 = \"There is a difference of mean hours per fish between fishing from boat than fishing from shore\"\n",
    "\n",
    "_test_type = 'different'\n",
    "\n",
    "_lista = Shore\n",
    "_listb = Boat\n",
    "\n",
    "MyStats.HypothesisTesting.PairedDifference.test_hypothesis(lista=_lista , listb=_listb , H0=_H0, H1=_H1, alpha=_alpha, test_type=_test_type)"
   ]
  },
  {
   "cell_type": "code",
   "execution_count": null,
   "metadata": {},
   "outputs": [],
   "source": []
  }
 ],
 "metadata": {
  "kernelspec": {
   "display_name": "Python 3",
   "language": "python",
   "name": "python3"
  },
  "language_info": {
   "codemirror_mode": {
    "name": "ipython",
    "version": 3
   },
   "file_extension": ".py",
   "mimetype": "text/x-python",
   "name": "python",
   "nbconvert_exporter": "python",
   "pygments_lexer": "ipython3",
   "version": "3.7.1"
  }
 },
 "nbformat": 4,
 "nbformat_minor": 2
}
